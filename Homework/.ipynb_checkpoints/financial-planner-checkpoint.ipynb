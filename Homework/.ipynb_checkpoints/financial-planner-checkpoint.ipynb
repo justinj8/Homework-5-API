{
 "cells": [
  {
   "cell_type": "markdown",
   "metadata": {},
   "source": [
    "# Unit 5 - Financial Planning\n"
   ]
  },
  {
   "cell_type": "code",
   "execution_count": 1,
   "metadata": {},
   "outputs": [],
   "source": [
    "# Initial imports\n",
    "import os\n",
    "import json\n",
    "import requests\n",
    "import pandas as pd\n",
    "from dotenv import load_dotenv\n",
    "import alpaca_trade_api as tradeapi\n",
    "from MCForecastTools import MCSimulation\n",
    "\n",
    "%matplotlib inline"
   ]
  },
  {
   "cell_type": "code",
   "execution_count": 2,
   "metadata": {},
   "outputs": [
    {
     "data": {
      "text/plain": [
       "True"
      ]
     },
     "execution_count": 2,
     "metadata": {},
     "output_type": "execute_result"
    }
   ],
   "source": [
    "# Load .env enviroment variables\n",
    "load_dotenv()"
   ]
  },
  {
   "cell_type": "markdown",
   "metadata": {},
   "source": [
    "## Part 1 - Personal Finance Planner"
   ]
  },
  {
   "cell_type": "markdown",
   "metadata": {},
   "source": [
    "### Collect Crypto Prices Using the `requests` Library"
   ]
  },
  {
   "cell_type": "code",
   "execution_count": 3,
   "metadata": {},
   "outputs": [],
   "source": [
    "# Set current amount of crypto assets\n",
    "my_btc = 1.2\n",
    "my_eth = 5.3"
   ]
  },
  {
   "cell_type": "code",
   "execution_count": 4,
   "metadata": {},
   "outputs": [],
   "source": [
    "# Crypto API URLs\n",
    "btc_url = \"https://api.alternative.me/v2/ticker/Bitcoin/?convert=CAD\"\n",
    "eth_url = \"https://api.alternative.me/v2/ticker/Ethereum/?convert=CAD\"\n",
    "\n",
    "# Add format specifier to both URLs\n",
    "btc_url = btc_url + \"?format=json\"\n",
    "eth_url = eth_url + \"?format=json\""
   ]
  },
  {
   "cell_type": "code",
   "execution_count": 5,
   "metadata": {},
   "outputs": [
    {
     "name": "stdout",
     "output_type": "stream",
     "text": [
      "{\n",
      "    \"data\": {\n",
      "        \"1\": {\n",
      "            \"id\": 1,\n",
      "            \"name\": \"Bitcoin\",\n",
      "            \"symbol\": \"BTC\",\n",
      "            \"website_slug\": \"bitcoin\",\n",
      "            \"rank\": 1,\n",
      "            \"circulating_supply\": 18525125,\n",
      "            \"total_supply\": 18525125,\n",
      "            \"max_supply\": 21000000,\n",
      "            \"quotes\": {\n",
      "                \"USD\": {\n",
      "                    \"price\": 12923.28,\n",
      "                    \"volume_24h\": 21127500191,\n",
      "                    \"market_cap\": 239525485098,\n",
      "                    \"percentage_change_1h\": -0.152357101932155,\n",
      "                    \"percentage_change_24h\": 0.134997403245455,\n",
      "                    \"percentage_change_7d\": 14.1723945299152,\n",
      "                    \"percent_change_1h\": -0.152357101932155,\n",
      "                    \"percent_change_24h\": 0.134997403245455,\n",
      "                    \"percent_change_7d\": 14.1723945299152\n",
      "                }\n",
      "            },\n",
      "            \"last_updated\": 1603497858\n",
      "        }\n",
      "    },\n",
      "    \"metadata\": {\n",
      "        \"timestamp\": 1603497858,\n",
      "        \"num_cryptocurrencies\": 1429,\n",
      "        \"error\": null\n",
      "    }\n",
      "}\n"
     ]
    }
   ],
   "source": [
    "# Get Content & Formatting for BTC\n",
    "requests.get(btc_url)\n",
    "response_data1 = requests.get(btc_url)\n",
    "response_content1 = response_data1.content\n",
    "data1 = response_data1.json()\n",
    "print(json.dumps(data1, indent=4))"
   ]
  },
  {
   "cell_type": "code",
   "execution_count": 6,
   "metadata": {},
   "outputs": [
    {
     "name": "stdout",
     "output_type": "stream",
     "text": [
      "{\n",
      "    \"data\": {\n",
      "        \"1027\": {\n",
      "            \"id\": 1027,\n",
      "            \"name\": \"Ethereum\",\n",
      "            \"symbol\": \"ETH\",\n",
      "            \"website_slug\": \"ethereum\",\n",
      "            \"rank\": 2,\n",
      "            \"circulating_supply\": 113130880,\n",
      "            \"total_supply\": 113130880,\n",
      "            \"max_supply\": 0,\n",
      "            \"quotes\": {\n",
      "                \"USD\": {\n",
      "                    \"price\": 409.27,\n",
      "                    \"volume_24h\": 11291720178,\n",
      "                    \"market_cap\": 46300887198,\n",
      "                    \"percentage_change_1h\": 0.101117589970038,\n",
      "                    \"percentage_change_24h\": -0.927777090069922,\n",
      "                    \"percentage_change_7d\": 11.8248088081358,\n",
      "                    \"percent_change_1h\": 0.101117589970038,\n",
      "                    \"percent_change_24h\": -0.927777090069922,\n",
      "                    \"percent_change_7d\": 11.8248088081358\n",
      "                }\n",
      "            },\n",
      "            \"last_updated\": 1603497751\n",
      "        }\n",
      "    },\n",
      "    \"metadata\": {\n",
      "        \"timestamp\": 1603497751,\n",
      "        \"num_cryptocurrencies\": 1429,\n",
      "        \"error\": null\n",
      "    }\n",
      "}\n"
     ]
    }
   ],
   "source": [
    "# # Get Content & Formatting for ETH\n",
    "requests.get(eth_url)\n",
    "response_data2 = requests.get(eth_url)\n",
    "response_content2 = response_data2.content\n",
    "data2 = response_data2.json()\n",
    "print(json.dumps(data2, indent=4))"
   ]
  },
  {
   "cell_type": "code",
   "execution_count": 7,
   "metadata": {},
   "outputs": [
    {
     "name": "stdout",
     "output_type": "stream",
     "text": [
      "The current value of your 1.2 BTC is $15507.94\n",
      "The current value of your 5.3 ETH is $2169.13\n"
     ]
    }
   ],
   "source": [
    "# Fetch current BTC price\n",
    "btc_price = data1[\"data\"][\"1\"][\"quotes\"][\"USD\"][\"price\"]\n",
    "# Fetch current ETH price\n",
    "eth_price = data2[\"data\"][\"1027\"][\"quotes\"][\"USD\"][\"price\"]\n",
    "\n",
    "# Compute current value of my crpto\n",
    "my_btc_value = btc_price * my_btc\n",
    "my_eth_value = eth_price * my_eth\n",
    "\n",
    "# Print current crypto wallet balance\n",
    "print(f\"The current value of your {my_btc} BTC is ${my_btc_value:0.2f}\")\n",
    "print(f\"The current value of your {my_eth} ETH is ${my_eth_value:0.2f}\")"
   ]
  },
  {
   "cell_type": "markdown",
   "metadata": {},
   "source": [
    "### Collect Investments Data Using Alpaca: `SPY` (stocks) and `AGG` (bonds)"
   ]
  },
  {
   "cell_type": "code",
   "execution_count": 8,
   "metadata": {},
   "outputs": [],
   "source": [
    "# Current amount of shares\n",
    "my_spy = 50\n",
    "my_agg = 200\n"
   ]
  },
  {
   "cell_type": "code",
   "execution_count": 9,
   "metadata": {},
   "outputs": [],
   "source": [
    "# Set Alpaca API key and secret\n",
    "alpaca_api_key = os.getenv(\"ALPACA_API_KEY\")\n",
    "alpaca_secret_key = os.getenv(\"ALPACA_SECRET_KEY\")\n",
    "\n",
    "# Create the Alpaca API object\n",
    "alpaca = tradeapi.REST(\n",
    "    alpaca_api_key,\n",
    "    alpaca_secret_key,\n",
    "    api_version=\"v2\")"
   ]
  },
  {
   "cell_type": "code",
   "execution_count": 10,
   "metadata": {},
   "outputs": [
    {
     "data": {
      "text/html": [
       "<div>\n",
       "<style scoped>\n",
       "    .dataframe tbody tr th:only-of-type {\n",
       "        vertical-align: middle;\n",
       "    }\n",
       "\n",
       "    .dataframe tbody tr th {\n",
       "        vertical-align: top;\n",
       "    }\n",
       "\n",
       "    .dataframe thead tr th {\n",
       "        text-align: left;\n",
       "    }\n",
       "</style>\n",
       "<table border=\"1\" class=\"dataframe\">\n",
       "  <thead>\n",
       "    <tr>\n",
       "      <th></th>\n",
       "      <th colspan=\"5\" halign=\"left\">AGG</th>\n",
       "      <th colspan=\"5\" halign=\"left\">SPY</th>\n",
       "    </tr>\n",
       "    <tr>\n",
       "      <th></th>\n",
       "      <th>open</th>\n",
       "      <th>high</th>\n",
       "      <th>low</th>\n",
       "      <th>close</th>\n",
       "      <th>volume</th>\n",
       "      <th>open</th>\n",
       "      <th>high</th>\n",
       "      <th>low</th>\n",
       "      <th>close</th>\n",
       "      <th>volume</th>\n",
       "    </tr>\n",
       "  </thead>\n",
       "  <tbody>\n",
       "    <tr>\n",
       "      <th>2020-10-20</th>\n",
       "      <td>117.7</td>\n",
       "      <td>117.71</td>\n",
       "      <td>117.58</td>\n",
       "      <td>117.64</td>\n",
       "      <td>3624855</td>\n",
       "      <td>343.46</td>\n",
       "      <td>346.88</td>\n",
       "      <td>342.64</td>\n",
       "      <td>343.34</td>\n",
       "      <td>48206853</td>\n",
       "    </tr>\n",
       "  </tbody>\n",
       "</table>\n",
       "</div>"
      ],
      "text/plain": [
       "              AGG                                      SPY                  \\\n",
       "             open    high     low   close   volume    open    high     low   \n",
       "2020-10-20  117.7  117.71  117.58  117.64  3624855  343.46  346.88  342.64   \n",
       "\n",
       "                              \n",
       "             close    volume  \n",
       "2020-10-20  343.34  48206853  "
      ]
     },
     "execution_count": 10,
     "metadata": {},
     "output_type": "execute_result"
    }
   ],
   "source": [
    "# Format current date as ISO format\n",
    "today = pd.Timestamp(\"2020-10-20\", tz=\"America/New_York\").isoformat()\n",
    "\n",
    "# Set the tickers\n",
    "tickers = [\"AGG\", \"SPY\"]\n",
    "\n",
    "# Set timeframe to '1D' for Alpaca API\n",
    "timeframe = \"1D\"\n",
    "\n",
    "# Get current closing prices for SPY and AGG\n",
    "df_portfolio = alpaca.get_barset(\n",
    "    tickers,\n",
    "    timeframe,\n",
    "    start = today,\n",
    "    end = today\n",
    ").df\n",
    "\n",
    "# Dropping time component of the date\n",
    "df_portfolio.index = df_portfolio.index.date\n",
    "\n",
    "# Preview DataFrame\n",
    "df_portfolio"
   ]
  },
  {
   "cell_type": "code",
   "execution_count": 11,
   "metadata": {},
   "outputs": [
    {
     "name": "stdout",
     "output_type": "stream",
     "text": [
      "Current AGG closing price: $117.64\n",
      "Current SPY closing price: $343.34\n"
     ]
    }
   ],
   "source": [
    "# Pick AGG and SPY close prices\n",
    "agg_close_price = float(df_portfolio[\"AGG\"][\"close\"])\n",
    "spy_close_price = float(df_portfolio[\"SPY\"][\"close\"])\n",
    "\n",
    "# Print AGG and SPY close prices\n",
    "print(f\"Current AGG closing price: ${agg_close_price}\")\n",
    "print(f\"Current SPY closing price: ${spy_close_price}\")"
   ]
  },
  {
   "cell_type": "code",
   "execution_count": 12,
   "metadata": {},
   "outputs": [
    {
     "name": "stdout",
     "output_type": "stream",
     "text": [
      "The current value of your 50 SPY shares is $17167.00\n",
      "The current value of your 200 AGG shares is $23528.00\n"
     ]
    }
   ],
   "source": [
    "# Compute the current value of shares\n",
    "my_agg_value = agg_close_price * my_agg\n",
    "my_spy_value = spy_close_price * my_spy\n",
    "# Print current value of share\n",
    "print(f\"The current value of your {my_spy} SPY shares is ${my_spy_value:0.2f}\")\n",
    "print(f\"The current value of your {my_agg} AGG shares is ${my_agg_value:0.2f}\")"
   ]
  },
  {
   "cell_type": "markdown",
   "metadata": {},
   "source": [
    "### Savings Health Analysis"
   ]
  },
  {
   "cell_type": "code",
   "execution_count": 13,
   "metadata": {},
   "outputs": [
    {
     "data": {
      "text/html": [
       "<div>\n",
       "<style scoped>\n",
       "    .dataframe tbody tr th:only-of-type {\n",
       "        vertical-align: middle;\n",
       "    }\n",
       "\n",
       "    .dataframe tbody tr th {\n",
       "        vertical-align: top;\n",
       "    }\n",
       "\n",
       "    .dataframe thead th {\n",
       "        text-align: right;\n",
       "    }\n",
       "</style>\n",
       "<table border=\"1\" class=\"dataframe\">\n",
       "  <thead>\n",
       "    <tr style=\"text-align: right;\">\n",
       "      <th></th>\n",
       "      <th>amount</th>\n",
       "    </tr>\n",
       "  </thead>\n",
       "  <tbody>\n",
       "    <tr>\n",
       "      <th>crypto</th>\n",
       "      <td>17677.067</td>\n",
       "    </tr>\n",
       "    <tr>\n",
       "      <th>shares</th>\n",
       "      <td>40695.000</td>\n",
       "    </tr>\n",
       "  </tbody>\n",
       "</table>\n",
       "</div>"
      ],
      "text/plain": [
       "           amount\n",
       "crypto  17677.067\n",
       "shares  40695.000"
      ]
     },
     "metadata": {},
     "output_type": "display_data"
    }
   ],
   "source": [
    "# Set monthly household income\n",
    "monthly_income = 12000\n",
    "\n",
    "# Set the data for the shares value DataFrame\n",
    "value_data = {\n",
    "    \"amount\":[my_btc_value+my_eth_value, my_agg_value+my_spy_value]\n",
    "}\n",
    "# Set Index\n",
    "assets = [\"crypto\", \"shares\"]\n",
    "\n",
    "# Create savings DataFrame\n",
    "df_savings = pd.DataFrame(value_data, index=assets)\n",
    "\n",
    "# Display savings DataFrame\n",
    "display(df_savings)"
   ]
  },
  {
   "cell_type": "code",
   "execution_count": 14,
   "metadata": {},
   "outputs": [
    {
     "data": {
      "text/plain": [
       "<matplotlib.axes._subplots.AxesSubplot at 0x7fa359504fd0>"
      ]
     },
     "execution_count": 14,
     "metadata": {},
     "output_type": "execute_result"
    },
    {
     "data": {
      "image/png": "[encoded data removed]",
      "text/plain": [
       "<Figure size 432x288 with 1 Axes>"
      ]
     },
     "metadata": {},
     "output_type": "display_data"
    }
   ],
   "source": [
    "# Plot savings pie chart\n",
    "df_savings.plot.pie(y=\"amount\", title=\"Composition of personal savings\")"
   ]
  },
  {
   "cell_type": "code",
   "execution_count": 15,
   "metadata": {},
   "outputs": [
    {
     "name": "stdout",
     "output_type": "stream",
     "text": [
      "Congrats! You have enough money in your emergency fund.\n"
     ]
    }
   ],
   "source": [
    "# Set ideal emergency fund\n",
    "emergency_fund = monthly_income * 3\n",
    "\n",
    "# Calculate total amount of savings\n",
    "total_savings = (my_btc_value+my_eth_value)+(my_agg_value+my_spy_value)\n",
    "\n",
    "\n",
    "# Set the difference between emergency fund & total savings\n",
    "savings_goal = emergency_fund - total_savings\n",
    "\n",
    "# Validate saving health\n",
    "if total_savings > emergency_fund:\n",
    "    print(\"Congrats! You have enough money in your emergency fund.\")\n",
    "elif total_savings == emergency_fund:\n",
    "    print(\"Congrats! You have reached your financial goal.\")\n",
    "else:\n",
    "    print(f\"You need ${savings_goal} to reach your goal.\")"
   ]
  },
  {
   "cell_type": "markdown",
   "metadata": {},
   "source": [
    "## Part 2 - Retirement Planning\n",
    "\n",
    "### Monte Carlo Simulation"
   ]
  },
  {
   "cell_type": "code",
   "execution_count": 16,
   "metadata": {},
   "outputs": [],
   "source": [
    "# Set start and end dates of five years back from today.\n",
    "# Sample results may vary from the solution based on the time frame chosen\n",
    "start_date = pd.Timestamp('2015-08-07', tz='America/New_York').isoformat()\n",
    "end_date = pd.Timestamp('2020-08-07', tz='America/New_York').isoformat()"
   ]
  },
  {
   "cell_type": "code",
   "execution_count": 17,
   "metadata": {},
   "outputs": [
    {
     "data": {
      "text/html": [
       "<div>\n",
       "<style scoped>\n",
       "    .dataframe tbody tr th:only-of-type {\n",
       "        vertical-align: middle;\n",
       "    }\n",
       "\n",
       "    .dataframe tbody tr th {\n",
       "        vertical-align: top;\n",
       "    }\n",
       "\n",
       "    .dataframe thead tr th {\n",
       "        text-align: left;\n",
       "    }\n",
       "</style>\n",
       "<table border=\"1\" class=\"dataframe\">\n",
       "  <thead>\n",
       "    <tr>\n",
       "      <th></th>\n",
       "      <th colspan=\"5\" halign=\"left\">AGG</th>\n",
       "      <th colspan=\"5\" halign=\"left\">SPY</th>\n",
       "    </tr>\n",
       "    <tr>\n",
       "      <th></th>\n",
       "      <th>open</th>\n",
       "      <th>high</th>\n",
       "      <th>low</th>\n",
       "      <th>close</th>\n",
       "      <th>volume</th>\n",
       "      <th>open</th>\n",
       "      <th>high</th>\n",
       "      <th>low</th>\n",
       "      <th>close</th>\n",
       "      <th>volume</th>\n",
       "    </tr>\n",
       "  </thead>\n",
       "  <tbody>\n",
       "    <tr>\n",
       "      <th>2015-08-07 00:00:00-04:00</th>\n",
       "      <td>109.14</td>\n",
       "      <td>109.2750</td>\n",
       "      <td>109.035</td>\n",
       "      <td>109.21</td>\n",
       "      <td>2041167.0</td>\n",
       "      <td>208.16</td>\n",
       "      <td>208.34</td>\n",
       "      <td>206.87</td>\n",
       "      <td>207.93</td>\n",
       "      <td>87669782</td>\n",
       "    </tr>\n",
       "    <tr>\n",
       "      <th>2015-08-10 00:00:00-04:00</th>\n",
       "      <td>109.15</td>\n",
       "      <td>109.1700</td>\n",
       "      <td>108.920</td>\n",
       "      <td>109.06</td>\n",
       "      <td>1149778.0</td>\n",
       "      <td>209.28</td>\n",
       "      <td>210.67</td>\n",
       "      <td>209.28</td>\n",
       "      <td>210.58</td>\n",
       "      <td>66755890</td>\n",
       "    </tr>\n",
       "    <tr>\n",
       "      <th>2015-08-11 00:00:00-04:00</th>\n",
       "      <td>109.42</td>\n",
       "      <td>109.5765</td>\n",
       "      <td>109.284</td>\n",
       "      <td>109.42</td>\n",
       "      <td>1420907.0</td>\n",
       "      <td>208.98</td>\n",
       "      <td>209.47</td>\n",
       "      <td>207.76</td>\n",
       "      <td>208.63</td>\n",
       "      <td>88424557</td>\n",
       "    </tr>\n",
       "    <tr>\n",
       "      <th>2015-08-12 00:00:00-04:00</th>\n",
       "      <td>109.55</td>\n",
       "      <td>109.7100</td>\n",
       "      <td>109.350</td>\n",
       "      <td>109.36</td>\n",
       "      <td>1468979.0</td>\n",
       "      <td>207.11</td>\n",
       "      <td>209.14</td>\n",
       "      <td>205.36</td>\n",
       "      <td>208.89</td>\n",
       "      <td>136171450</td>\n",
       "    </tr>\n",
       "    <tr>\n",
       "      <th>2015-08-13 00:00:00-04:00</th>\n",
       "      <td>109.36</td>\n",
       "      <td>109.3651</td>\n",
       "      <td>109.110</td>\n",
       "      <td>109.15</td>\n",
       "      <td>1465173.0</td>\n",
       "      <td>208.73</td>\n",
       "      <td>209.55</td>\n",
       "      <td>208.01</td>\n",
       "      <td>208.63</td>\n",
       "      <td>77197796</td>\n",
       "    </tr>\n",
       "  </tbody>\n",
       "</table>\n",
       "</div>"
      ],
      "text/plain": [
       "                              AGG                                        \\\n",
       "                             open      high      low   close     volume   \n",
       "2015-08-07 00:00:00-04:00  109.14  109.2750  109.035  109.21  2041167.0   \n",
       "2015-08-10 00:00:00-04:00  109.15  109.1700  108.920  109.06  1149778.0   \n",
       "2015-08-11 00:00:00-04:00  109.42  109.5765  109.284  109.42  1420907.0   \n",
       "2015-08-12 00:00:00-04:00  109.55  109.7100  109.350  109.36  1468979.0   \n",
       "2015-08-13 00:00:00-04:00  109.36  109.3651  109.110  109.15  1465173.0   \n",
       "\n",
       "                              SPY                                     \n",
       "                             open    high     low   close     volume  \n",
       "2015-08-07 00:00:00-04:00  208.16  208.34  206.87  207.93   87669782  \n",
       "2015-08-10 00:00:00-04:00  209.28  210.67  209.28  210.58   66755890  \n",
       "2015-08-11 00:00:00-04:00  208.98  209.47  207.76  208.63   88424557  \n",
       "2015-08-12 00:00:00-04:00  207.11  209.14  205.36  208.89  136171450  \n",
       "2015-08-13 00:00:00-04:00  208.73  209.55  208.01  208.63   77197796  "
      ]
     },
     "execution_count": 17,
     "metadata": {},
     "output_type": "execute_result"
    }
   ],
   "source": [
    "# Get 5 years' worth of historical data for SPY and AGG\n",
    "df_stock_data = alpaca.get_barset(\n",
    "    tickers,\n",
    "    timeframe,\n",
    "    start=start_date,\n",
    "    end=end_date\n",
    ").df\n",
    "\n",
    "\n",
    "# Display sample data\n",
    "df_stock_data.head()"
   ]
  },
  {
   "cell_type": "code",
   "execution_count": 18,
   "metadata": {},
   "outputs": [],
   "source": [
    "# Configuring a Monte Carlo simulation to forecast 30 years cumulative returns\n",
    "mc_stocks = MCSimulation(\n",
    "    portfolio_data = df_stock_data,\n",
    "    num_simulation = 500,\n",
    "    num_trading_days = 252*30\n",
    ")"
   ]
  },
  {
   "cell_type": "code",
   "execution_count": 19,
   "metadata": {},
   "outputs": [
    {
     "data": {
      "text/html": [
       "<div>\n",
       "<style scoped>\n",
       "    .dataframe tbody tr th:only-of-type {\n",
       "        vertical-align: middle;\n",
       "    }\n",
       "\n",
       "    .dataframe tbody tr th {\n",
       "        vertical-align: top;\n",
       "    }\n",
       "\n",
       "    .dataframe thead tr th {\n",
       "        text-align: left;\n",
       "    }\n",
       "</style>\n",
       "<table border=\"1\" class=\"dataframe\">\n",
       "  <thead>\n",
       "    <tr>\n",
       "      <th></th>\n",
       "      <th colspan=\"5\" halign=\"left\">AGG</th>\n",
       "      <th colspan=\"5\" halign=\"left\">SPY</th>\n",
       "    </tr>\n",
       "    <tr>\n",
       "      <th></th>\n",
       "      <th>open</th>\n",
       "      <th>high</th>\n",
       "      <th>low</th>\n",
       "      <th>close</th>\n",
       "      <th>volume</th>\n",
       "      <th>open</th>\n",
       "      <th>high</th>\n",
       "      <th>low</th>\n",
       "      <th>close</th>\n",
       "      <th>volume</th>\n",
       "    </tr>\n",
       "  </thead>\n",
       "  <tbody>\n",
       "    <tr>\n",
       "      <th>2015-08-07 00:00:00-04:00</th>\n",
       "      <td>109.14</td>\n",
       "      <td>109.2750</td>\n",
       "      <td>109.035</td>\n",
       "      <td>109.21</td>\n",
       "      <td>2041167.0</td>\n",
       "      <td>208.16</td>\n",
       "      <td>208.34</td>\n",
       "      <td>206.87</td>\n",
       "      <td>207.93</td>\n",
       "      <td>87669782</td>\n",
       "    </tr>\n",
       "    <tr>\n",
       "      <th>2015-08-10 00:00:00-04:00</th>\n",
       "      <td>109.15</td>\n",
       "      <td>109.1700</td>\n",
       "      <td>108.920</td>\n",
       "      <td>109.06</td>\n",
       "      <td>1149778.0</td>\n",
       "      <td>209.28</td>\n",
       "      <td>210.67</td>\n",
       "      <td>209.28</td>\n",
       "      <td>210.58</td>\n",
       "      <td>66755890</td>\n",
       "    </tr>\n",
       "    <tr>\n",
       "      <th>2015-08-11 00:00:00-04:00</th>\n",
       "      <td>109.42</td>\n",
       "      <td>109.5765</td>\n",
       "      <td>109.284</td>\n",
       "      <td>109.42</td>\n",
       "      <td>1420907.0</td>\n",
       "      <td>208.98</td>\n",
       "      <td>209.47</td>\n",
       "      <td>207.76</td>\n",
       "      <td>208.63</td>\n",
       "      <td>88424557</td>\n",
       "    </tr>\n",
       "    <tr>\n",
       "      <th>2015-08-12 00:00:00-04:00</th>\n",
       "      <td>109.55</td>\n",
       "      <td>109.7100</td>\n",
       "      <td>109.350</td>\n",
       "      <td>109.36</td>\n",
       "      <td>1468979.0</td>\n",
       "      <td>207.11</td>\n",
       "      <td>209.14</td>\n",
       "      <td>205.36</td>\n",
       "      <td>208.89</td>\n",
       "      <td>136171450</td>\n",
       "    </tr>\n",
       "    <tr>\n",
       "      <th>2015-08-13 00:00:00-04:00</th>\n",
       "      <td>109.36</td>\n",
       "      <td>109.3651</td>\n",
       "      <td>109.110</td>\n",
       "      <td>109.15</td>\n",
       "      <td>1465173.0</td>\n",
       "      <td>208.73</td>\n",
       "      <td>209.55</td>\n",
       "      <td>208.01</td>\n",
       "      <td>208.63</td>\n",
       "      <td>77197796</td>\n",
       "    </tr>\n",
       "  </tbody>\n",
       "</table>\n",
       "</div>"
      ],
      "text/plain": [
       "                              AGG                                        \\\n",
       "                             open      high      low   close     volume   \n",
       "2015-08-07 00:00:00-04:00  109.14  109.2750  109.035  109.21  2041167.0   \n",
       "2015-08-10 00:00:00-04:00  109.15  109.1700  108.920  109.06  1149778.0   \n",
       "2015-08-11 00:00:00-04:00  109.42  109.5765  109.284  109.42  1420907.0   \n",
       "2015-08-12 00:00:00-04:00  109.55  109.7100  109.350  109.36  1468979.0   \n",
       "2015-08-13 00:00:00-04:00  109.36  109.3651  109.110  109.15  1465173.0   \n",
       "\n",
       "                              SPY                                     \n",
       "                             open    high     low   close     volume  \n",
       "2015-08-07 00:00:00-04:00  208.16  208.34  206.87  207.93   87669782  \n",
       "2015-08-10 00:00:00-04:00  209.28  210.67  209.28  210.58   66755890  \n",
       "2015-08-11 00:00:00-04:00  208.98  209.47  207.76  208.63   88424557  \n",
       "2015-08-12 00:00:00-04:00  207.11  209.14  205.36  208.89  136171450  \n",
       "2015-08-13 00:00:00-04:00  208.73  209.55  208.01  208.63   77197796  "
      ]
     },
     "execution_count": 19,
     "metadata": {},
     "output_type": "execute_result"
    }
   ],
   "source": [
    "# Printing the simulation input data\n",
    "df_stock_data.head()"
   ]
  },
  {
   "cell_type": "code",
   "execution_count": 20,
   "metadata": {},
   "outputs": [
    {
     "name": "stdout",
     "output_type": "stream",
     "text": [
      "Running Monte Carlo simulation number 0.\n",
      "Running Monte Carlo simulation number 10.\n",
      "Running Monte Carlo simulation number 20.\n",
      "Running Monte Carlo simulation number 30.\n",
      "Running Monte Carlo simulation number 40.\n",
      "Running Monte Carlo simulation number 50.\n",
      "Running Monte Carlo simulation number 60.\n",
      "Running Monte Carlo simulation number 70.\n",
      "Running Monte Carlo simulation number 80.\n",
      "Running Monte Carlo simulation number 90.\n",
      "Running Monte Carlo simulation number 100.\n",
      "Running Monte Carlo simulation number 110.\n",
      "Running Monte Carlo simulation number 120.\n",
      "Running Monte Carlo simulation number 130.\n",
      "Running Monte Carlo simulation number 140.\n",
      "Running Monte Carlo simulation number 150.\n",
      "Running Monte Carlo simulation number 160.\n",
      "Running Monte Carlo simulation number 170.\n",
      "Running Monte Carlo simulation number 180.\n",
      "Running Monte Carlo simulation number 190.\n",
      "Running Monte Carlo simulation number 200.\n",
      "Running Monte Carlo simulation number 210.\n",
      "Running Monte Carlo simulation number 220.\n",
      "Running Monte Carlo simulation number 230.\n",
      "Running Monte Carlo simulation number 240.\n",
      "Running Monte Carlo simulation number 250.\n",
      "Running Monte Carlo simulation number 260.\n",
      "Running Monte Carlo simulation number 270.\n",
      "Running Monte Carlo simulation number 280.\n",
      "Running Monte Carlo simulation number 290.\n",
      "Running Monte Carlo simulation number 300.\n",
      "Running Monte Carlo simulation number 310.\n",
      "Running Monte Carlo simulation number 320.\n",
      "Running Monte Carlo simulation number 330.\n",
      "Running Monte Carlo simulation number 340.\n",
      "Running Monte Carlo simulation number 350.\n",
      "Running Monte Carlo simulation number 360.\n",
      "Running Monte Carlo simulation number 370.\n",
      "Running Monte Carlo simulation number 380.\n",
      "Running Monte Carlo simulation number 390.\n",
      "Running Monte Carlo simulation number 400.\n",
      "Running Monte Carlo simulation number 410.\n",
      "Running Monte Carlo simulation number 420.\n",
      "Running Monte Carlo simulation number 430.\n",
      "Running Monte Carlo simulation number 440.\n",
      "Running Monte Carlo simulation number 450.\n",
      "Running Monte Carlo simulation number 460.\n",
      "Running Monte Carlo simulation number 470.\n",
      "Running Monte Carlo simulation number 480.\n",
      "Running Monte Carlo simulation number 490.\n"
     ]
    },
    {
     "data": {
      "text/html": [
       "<div>\n",
       "<style scoped>\n",
       "    .dataframe tbody tr th:only-of-type {\n",
       "        vertical-align: middle;\n",
       "    }\n",
       "\n",
       "    .dataframe tbody tr th {\n",
       "        vertical-align: top;\n",
       "    }\n",
       "\n",
       "    .dataframe thead th {\n",
       "        text-align: right;\n",
       "    }\n",
       "</style>\n",
       "<table border=\"1\" class=\"dataframe\">\n",
       "  <thead>\n",
       "    <tr style=\"text-align: right;\">\n",
       "      <th></th>\n",
       "      <th>0</th>\n",
       "      <th>1</th>\n",
       "      <th>2</th>\n",
       "      <th>3</th>\n",
       "      <th>4</th>\n",
       "      <th>5</th>\n",
       "      <th>6</th>\n",
       "      <th>7</th>\n",
       "      <th>8</th>\n",
       "      <th>9</th>\n",
       "      <th>...</th>\n",
       "      <th>490</th>\n",
       "      <th>491</th>\n",
       "      <th>492</th>\n",
       "      <th>493</th>\n",
       "      <th>494</th>\n",
       "      <th>495</th>\n",
       "      <th>496</th>\n",
       "      <th>497</th>\n",
       "      <th>498</th>\n",
       "      <th>499</th>\n",
       "    </tr>\n",
       "  </thead>\n",
       "  <tbody>\n",
       "    <tr>\n",
       "      <th>0</th>\n",
       "      <td>1.000000</td>\n",
       "      <td>1.000000</td>\n",
       "      <td>1.000000</td>\n",
       "      <td>1.000000</td>\n",
       "      <td>1.000000</td>\n",
       "      <td>1.000000</td>\n",
       "      <td>1.000000</td>\n",
       "      <td>1.000000</td>\n",
       "      <td>1.000000</td>\n",
       "      <td>1.000000</td>\n",
       "      <td>...</td>\n",
       "      <td>1.000000</td>\n",
       "      <td>1.000000</td>\n",
       "      <td>1.000000</td>\n",
       "      <td>1.000000</td>\n",
       "      <td>1.000000</td>\n",
       "      <td>1.000000</td>\n",
       "      <td>1.000000</td>\n",
       "      <td>1.000000</td>\n",
       "      <td>1.000000</td>\n",
       "      <td>1.000000</td>\n",
       "    </tr>\n",
       "    <tr>\n",
       "      <th>1</th>\n",
       "      <td>1.002184</td>\n",
       "      <td>0.998590</td>\n",
       "      <td>0.996464</td>\n",
       "      <td>1.006941</td>\n",
       "      <td>1.002808</td>\n",
       "      <td>0.996794</td>\n",
       "      <td>0.999740</td>\n",
       "      <td>1.014173</td>\n",
       "      <td>1.006839</td>\n",
       "      <td>1.003054</td>\n",
       "      <td>...</td>\n",
       "      <td>0.999171</td>\n",
       "      <td>1.010804</td>\n",
       "      <td>1.004504</td>\n",
       "      <td>0.994059</td>\n",
       "      <td>0.996163</td>\n",
       "      <td>0.999896</td>\n",
       "      <td>0.995204</td>\n",
       "      <td>0.999284</td>\n",
       "      <td>0.999296</td>\n",
       "      <td>1.007587</td>\n",
       "    </tr>\n",
       "    <tr>\n",
       "      <th>2</th>\n",
       "      <td>1.005186</td>\n",
       "      <td>0.999653</td>\n",
       "      <td>1.003467</td>\n",
       "      <td>1.003063</td>\n",
       "      <td>1.005434</td>\n",
       "      <td>0.987479</td>\n",
       "      <td>0.992247</td>\n",
       "      <td>1.000139</td>\n",
       "      <td>0.996910</td>\n",
       "      <td>1.002275</td>\n",
       "      <td>...</td>\n",
       "      <td>0.998110</td>\n",
       "      <td>1.020815</td>\n",
       "      <td>1.005696</td>\n",
       "      <td>1.002567</td>\n",
       "      <td>1.001412</td>\n",
       "      <td>1.005701</td>\n",
       "      <td>0.992537</td>\n",
       "      <td>0.994808</td>\n",
       "      <td>0.989111</td>\n",
       "      <td>1.015747</td>\n",
       "    </tr>\n",
       "    <tr>\n",
       "      <th>3</th>\n",
       "      <td>1.007668</td>\n",
       "      <td>1.001161</td>\n",
       "      <td>0.990219</td>\n",
       "      <td>0.998275</td>\n",
       "      <td>1.001008</td>\n",
       "      <td>0.994114</td>\n",
       "      <td>1.004206</td>\n",
       "      <td>0.994125</td>\n",
       "      <td>0.993186</td>\n",
       "      <td>1.001334</td>\n",
       "      <td>...</td>\n",
       "      <td>1.012453</td>\n",
       "      <td>1.025609</td>\n",
       "      <td>1.009937</td>\n",
       "      <td>1.002446</td>\n",
       "      <td>1.005754</td>\n",
       "      <td>0.999350</td>\n",
       "      <td>1.000199</td>\n",
       "      <td>0.995089</td>\n",
       "      <td>0.995952</td>\n",
       "      <td>1.021058</td>\n",
       "    </tr>\n",
       "    <tr>\n",
       "      <th>4</th>\n",
       "      <td>1.001966</td>\n",
       "      <td>1.007292</td>\n",
       "      <td>0.997743</td>\n",
       "      <td>1.002330</td>\n",
       "      <td>1.006951</td>\n",
       "      <td>0.988781</td>\n",
       "      <td>1.011213</td>\n",
       "      <td>0.989972</td>\n",
       "      <td>0.999449</td>\n",
       "      <td>0.998020</td>\n",
       "      <td>...</td>\n",
       "      <td>1.005437</td>\n",
       "      <td>1.024579</td>\n",
       "      <td>1.009749</td>\n",
       "      <td>0.999058</td>\n",
       "      <td>1.013757</td>\n",
       "      <td>1.005422</td>\n",
       "      <td>1.000743</td>\n",
       "      <td>0.988807</td>\n",
       "      <td>1.002931</td>\n",
       "      <td>1.028175</td>\n",
       "    </tr>\n",
       "    <tr>\n",
       "      <th>...</th>\n",
       "      <td>...</td>\n",
       "      <td>...</td>\n",
       "      <td>...</td>\n",
       "      <td>...</td>\n",
       "      <td>...</td>\n",
       "      <td>...</td>\n",
       "      <td>...</td>\n",
       "      <td>...</td>\n",
       "      <td>...</td>\n",
       "      <td>...</td>\n",
       "      <td>...</td>\n",
       "      <td>...</td>\n",
       "      <td>...</td>\n",
       "      <td>...</td>\n",
       "      <td>...</td>\n",
       "      <td>...</td>\n",
       "      <td>...</td>\n",
       "      <td>...</td>\n",
       "      <td>...</td>\n",
       "      <td>...</td>\n",
       "      <td>...</td>\n",
       "    </tr>\n",
       "    <tr>\n",
       "      <th>7556</th>\n",
       "      <td>5.862977</td>\n",
       "      <td>4.200896</td>\n",
       "      <td>3.566628</td>\n",
       "      <td>6.827319</td>\n",
       "      <td>6.585872</td>\n",
       "      <td>5.133106</td>\n",
       "      <td>6.111346</td>\n",
       "      <td>12.623392</td>\n",
       "      <td>5.680275</td>\n",
       "      <td>9.017168</td>\n",
       "      <td>...</td>\n",
       "      <td>10.517752</td>\n",
       "      <td>9.793763</td>\n",
       "      <td>4.698243</td>\n",
       "      <td>8.302059</td>\n",
       "      <td>8.551636</td>\n",
       "      <td>5.497780</td>\n",
       "      <td>4.907530</td>\n",
       "      <td>2.512083</td>\n",
       "      <td>10.159832</td>\n",
       "      <td>8.193807</td>\n",
       "    </tr>\n",
       "    <tr>\n",
       "      <th>7557</th>\n",
       "      <td>5.884974</td>\n",
       "      <td>4.224681</td>\n",
       "      <td>3.552221</td>\n",
       "      <td>6.820573</td>\n",
       "      <td>6.513762</td>\n",
       "      <td>5.180806</td>\n",
       "      <td>6.161817</td>\n",
       "      <td>12.716801</td>\n",
       "      <td>5.641586</td>\n",
       "      <td>9.104633</td>\n",
       "      <td>...</td>\n",
       "      <td>10.478854</td>\n",
       "      <td>9.768817</td>\n",
       "      <td>4.662034</td>\n",
       "      <td>8.228190</td>\n",
       "      <td>8.597571</td>\n",
       "      <td>5.411395</td>\n",
       "      <td>4.971351</td>\n",
       "      <td>2.505744</td>\n",
       "      <td>10.200009</td>\n",
       "      <td>8.243277</td>\n",
       "    </tr>\n",
       "    <tr>\n",
       "      <th>7558</th>\n",
       "      <td>5.833176</td>\n",
       "      <td>4.277777</td>\n",
       "      <td>3.535463</td>\n",
       "      <td>6.759824</td>\n",
       "      <td>6.503917</td>\n",
       "      <td>5.222320</td>\n",
       "      <td>6.118346</td>\n",
       "      <td>12.612826</td>\n",
       "      <td>5.620211</td>\n",
       "      <td>9.103387</td>\n",
       "      <td>...</td>\n",
       "      <td>10.409817</td>\n",
       "      <td>9.779181</td>\n",
       "      <td>4.676270</td>\n",
       "      <td>8.264752</td>\n",
       "      <td>8.600796</td>\n",
       "      <td>5.418086</td>\n",
       "      <td>4.986276</td>\n",
       "      <td>2.506409</td>\n",
       "      <td>10.158046</td>\n",
       "      <td>8.256283</td>\n",
       "    </tr>\n",
       "    <tr>\n",
       "      <th>7559</th>\n",
       "      <td>5.847059</td>\n",
       "      <td>4.264588</td>\n",
       "      <td>3.511676</td>\n",
       "      <td>6.692695</td>\n",
       "      <td>6.568347</td>\n",
       "      <td>5.237956</td>\n",
       "      <td>6.184807</td>\n",
       "      <td>12.585956</td>\n",
       "      <td>5.681120</td>\n",
       "      <td>8.996795</td>\n",
       "      <td>...</td>\n",
       "      <td>10.409785</td>\n",
       "      <td>9.787399</td>\n",
       "      <td>4.669407</td>\n",
       "      <td>8.244542</td>\n",
       "      <td>8.603575</td>\n",
       "      <td>5.406480</td>\n",
       "      <td>5.061329</td>\n",
       "      <td>2.482305</td>\n",
       "      <td>10.077414</td>\n",
       "      <td>8.267664</td>\n",
       "    </tr>\n",
       "    <tr>\n",
       "      <th>7560</th>\n",
       "      <td>5.785932</td>\n",
       "      <td>4.252459</td>\n",
       "      <td>3.519028</td>\n",
       "      <td>6.713586</td>\n",
       "      <td>6.613880</td>\n",
       "      <td>5.263071</td>\n",
       "      <td>6.255150</td>\n",
       "      <td>12.626927</td>\n",
       "      <td>5.669086</td>\n",
       "      <td>8.946782</td>\n",
       "      <td>...</td>\n",
       "      <td>10.341410</td>\n",
       "      <td>9.848426</td>\n",
       "      <td>4.729954</td>\n",
       "      <td>8.214338</td>\n",
       "      <td>8.638991</td>\n",
       "      <td>5.441601</td>\n",
       "      <td>5.027371</td>\n",
       "      <td>2.467343</td>\n",
       "      <td>10.010098</td>\n",
       "      <td>8.211955</td>\n",
       "    </tr>\n",
       "  </tbody>\n",
       "</table>\n",
       "<p>7561 rows × 500 columns</p>\n",
       "</div>"
      ],
      "text/plain": [
       "           0         1         2         3         4         5         6    \\\n",
       "0     1.000000  1.000000  1.000000  1.000000  1.000000  1.000000  1.000000   \n",
       "1     1.002184  0.998590  0.996464  1.006941  1.002808  0.996794  0.999740   \n",
       "2     1.005186  0.999653  1.003467  1.003063  1.005434  0.987479  0.992247   \n",
       "3     1.007668  1.001161  0.990219  0.998275  1.001008  0.994114  1.004206   \n",
       "4     1.001966  1.007292  0.997743  1.002330  1.006951  0.988781  1.011213   \n",
       "...        ...       ...       ...       ...       ...       ...       ...   \n",
       "7556  5.862977  4.200896  3.566628  6.827319  6.585872  5.133106  6.111346   \n",
       "7557  5.884974  4.224681  3.552221  6.820573  6.513762  5.180806  6.161817   \n",
       "7558  5.833176  4.277777  3.535463  6.759824  6.503917  5.222320  6.118346   \n",
       "7559  5.847059  4.264588  3.511676  6.692695  6.568347  5.237956  6.184807   \n",
       "7560  5.785932  4.252459  3.519028  6.713586  6.613880  5.263071  6.255150   \n",
       "\n",
       "            7         8         9    ...        490       491       492  \\\n",
       "0      1.000000  1.000000  1.000000  ...   1.000000  1.000000  1.000000   \n",
       "1      1.014173  1.006839  1.003054  ...   0.999171  1.010804  1.004504   \n",
       "2      1.000139  0.996910  1.002275  ...   0.998110  1.020815  1.005696   \n",
       "3      0.994125  0.993186  1.001334  ...   1.012453  1.025609  1.009937   \n",
       "4      0.989972  0.999449  0.998020  ...   1.005437  1.024579  1.009749   \n",
       "...         ...       ...       ...  ...        ...       ...       ...   \n",
       "7556  12.623392  5.680275  9.017168  ...  10.517752  9.793763  4.698243   \n",
       "7557  12.716801  5.641586  9.104633  ...  10.478854  9.768817  4.662034   \n",
       "7558  12.612826  5.620211  9.103387  ...  10.409817  9.779181  4.676270   \n",
       "7559  12.585956  5.681120  8.996795  ...  10.409785  9.787399  4.669407   \n",
       "7560  12.626927  5.669086  8.946782  ...  10.341410  9.848426  4.729954   \n",
       "\n",
       "           493       494       495       496       497        498       499  \n",
       "0     1.000000  1.000000  1.000000  1.000000  1.000000   1.000000  1.000000  \n",
       "1     0.994059  0.996163  0.999896  0.995204  0.999284   0.999296  1.007587  \n",
       "2     1.002567  1.001412  1.005701  0.992537  0.994808   0.989111  1.015747  \n",
       "3     1.002446  1.005754  0.999350  1.000199  0.995089   0.995952  1.021058  \n",
       "4     0.999058  1.013757  1.005422  1.000743  0.988807   1.002931  1.028175  \n",
       "...        ...       ...       ...       ...       ...        ...       ...  \n",
       "7556  8.302059  8.551636  5.497780  4.907530  2.512083  10.159832  8.193807  \n",
       "7557  8.228190  8.597571  5.411395  4.971351  2.505744  10.200009  8.243277  \n",
       "7558  8.264752  8.600796  5.418086  4.986276  2.506409  10.158046  8.256283  \n",
       "7559  8.244542  8.603575  5.406480  5.061329  2.482305  10.077414  8.267664  \n",
       "7560  8.214338  8.638991  5.441601  5.027371  2.467343  10.010098  8.211955  \n",
       "\n",
       "[7561 rows x 500 columns]"
      ]
     },
     "execution_count": 20,
     "metadata": {},
     "output_type": "execute_result"
    }
   ],
   "source": [
    "# Running a Monte Carlo simulation to forecast 30 years cumulative returns\n",
    "mc_stocks.calc_cumulative_return()"
   ]
  },
  {
   "cell_type": "code",
   "execution_count": 21,
   "metadata": {},
   "outputs": [
    {
     "data": {
      "image/png": "[encoded data removed]",
      "text/plain": [
       "<Figure size 432x288 with 1 Axes>"
      ]
     },
     "metadata": {
      "needs_background": "light"
     },
     "output_type": "display_data"
    }
   ],
   "source": [
    "# Plot simulation outcomes\n",
    "line_plot = mc_stocks.plot_simulation()"
   ]
  },
  {
   "cell_type": "code",
   "execution_count": 22,
   "metadata": {},
   "outputs": [
    {
     "data": {
      "image/png": "[encoded data removed]",
      "text/plain": [
       "<Figure size 432x288 with 1 Axes>"
      ]
     },
     "metadata": {
      "needs_background": "light"
     },
     "output_type": "display_data"
    }
   ],
   "source": [
    "# Plot probability distribution and confidence intervals\n",
    "dist_plot = mc_stocks.plot_distribution()"
   ]
  },
  {
   "cell_type": "markdown",
   "metadata": {},
   "source": [
    "### Retirement Analysis"
   ]
  },
  {
   "cell_type": "code",
   "execution_count": 23,
   "metadata": {},
   "outputs": [
    {
     "name": "stdout",
     "output_type": "stream",
     "text": [
      "count           500.000000\n",
      "mean              7.363358\n",
      "std               5.090739\n",
      "min               0.807965\n",
      "25%               4.427303\n",
      "50%               6.365299\n",
      "75%               8.961571\n",
      "max              73.306265\n",
      "95% CI Lower      2.436804\n",
      "95% CI Upper     17.142796\n",
      "Name: 7560, dtype: float64\n"
     ]
    }
   ],
   "source": [
    "# Fetch summary statistics from the Monte Carlo simulation results\n",
    "stocks_tbl = mc_stocks.summarize_cumulative_return()\n",
    "\n",
    "# Print summary statistics\n",
    "print(stocks_tbl)"
   ]
  },
  {
   "cell_type": "markdown",
   "metadata": {},
   "source": [
    "### Calculate the expected portfolio return at the 95% lower and upper confidence intervals based on a `$20,000` initial investment."
   ]
  },
  {
   "cell_type": "code",
   "execution_count": 24,
   "metadata": {},
   "outputs": [
    {
     "name": "stdout",
     "output_type": "stream",
     "text": [
      "There is a 95% chance that an initial investment of $20000 in the portfolio over the next 30 years will end within in the range of $48736.09 and $342855.92\n"
     ]
    }
   ],
   "source": [
    "# Set initial investment\n",
    "initial_investment = 20000\n",
    "\n",
    "# Use the lower and upper `95%` confidence intervals to calculate the range of the possible outcomes of our $20,000\n",
    "stocks_ci_lower = round(stocks_tbl[8]*20000,2)\n",
    "stocks_ci_upper = round(stocks_tbl[9]*20000,2)\n",
    "\n",
    "\n",
    "# Print results\n",
    "print(f\"There is a 95% chance that an initial investment of ${initial_investment} in the portfolio\"\n",
    "      f\" over the next 30 years will end within in the range of\"\n",
    "      f\" ${stocks_ci_lower} and ${stocks_ci_upper}\")"
   ]
  },
  {
   "cell_type": "markdown",
   "metadata": {},
   "source": [
    "### Calculate the expected portfolio return at the `95%` lower and upper confidence intervals based on a `50%` increase in the initial investment."
   ]
  },
  {
   "cell_type": "code",
   "execution_count": 25,
   "metadata": {},
   "outputs": [
    {
     "name": "stdout",
     "output_type": "stream",
     "text": [
      "There is a 95% chance that an initial investment of $30000.0 in the portfolio over the next 30 years will end within in the range of $73104.13 and $514283.88\n"
     ]
    }
   ],
   "source": [
    "# Set initial investment\n",
    "initial_investment = 20000 * 1.5\n",
    "\n",
    "# Use the lower and upper `95%` confidence intervals to calculate the range of the possible outcomes of our $30,000\n",
    "stocks_ci_lower1 = round(stocks_tbl[8]*30000,2)\n",
    "stocks_ci_upper1 = round(stocks_tbl[9]*30000,2)\n",
    "\n",
    "# Print results\n",
    "print(f\"There is a 95% chance that an initial investment of ${initial_investment} in the portfolio\"\n",
    "      f\" over the next 30 years will end within in the range of\"\n",
    "      f\" ${stocks_ci_lower1} and ${stocks_ci_upper1}\")"
   ]
  },
  {
   "cell_type": "code",
   "execution_count": null,
   "metadata": {},
   "outputs": [],
   "source": []
  }
 ],
 "metadata": {
  "kernelspec": {
   "display_name": "Python 3",
   "language": "python",
   "name": "python3"
  },
  "language_info": {
   "codemirror_mode": {
    "name": "ipython",
    "version": 3
   },
   "file_extension": ".py",
   "mimetype": "text/x-python",
   "name": "python",
   "nbconvert_exporter": "python",
   "pygments_lexer": "ipython3",
   "version": "3.7.7"
  }
 },
 "nbformat": 4,
 "nbformat_minor": 4
}
