{
 "cells": [
  {
   "cell_type": "markdown",
   "metadata": {},
   "source": [
    "# Unit 5 - Financial Planning\n"
   ]
  },
  {
   "cell_type": "code",
   "execution_count": 1,
   "metadata": {},
   "outputs": [],
   "source": [
    "# Initial imports\n",
    "import os\n",
    "import json\n",
    "import requests\n",
    "import pandas as pd\n",
    "from dotenv import load_dotenv\n",
    "import alpaca_trade_api as tradeapi\n",
    "from MCForecastTools import MCSimulation\n",
    "\n",
    "%matplotlib inline"
   ]
  },
  {
   "cell_type": "code",
   "execution_count": 2,
   "metadata": {},
   "outputs": [
    {
     "data": {
      "text/plain": [
       "True"
      ]
     },
     "execution_count": 2,
     "metadata": {},
     "output_type": "execute_result"
    }
   ],
   "source": [
    "# Load .env enviroment variables\n",
    "load_dotenv()"
   ]
  },
  {
   "cell_type": "markdown",
   "metadata": {},
   "source": [
    "## Part 1 - Personal Finance Planner"
   ]
  },
  {
   "cell_type": "markdown",
   "metadata": {},
   "source": [
    "### Collect Crypto Prices Using the `requests` Library"
   ]
  },
  {
   "cell_type": "code",
   "execution_count": 3,
   "metadata": {},
   "outputs": [],
   "source": [
    "# Set current amount of crypto assets\n",
    "my_btc = 1.2\n",
    "my_eth = 5.3"
   ]
  },
  {
   "cell_type": "code",
   "execution_count": 4,
   "metadata": {},
   "outputs": [],
   "source": [
    "# Crypto API URLs\n",
    "btc_url = \"https://api.alternative.me/v2/ticker/Bitcoin/?convert=CAD\"\n",
    "eth_url = \"https://api.alternative.me/v2/ticker/Ethereum/?convert=CAD\"\n",
    "\n",
    "# Add format specifier to both URLs\n",
    "btc_url = btc_url + \"?format=json\"\n",
    "eth_url = eth_url + \"?format=json\""
   ]
  },
  {
   "cell_type": "code",
   "execution_count": 5,
   "metadata": {},
   "outputs": [
    {
     "name": "stdout",
     "output_type": "stream",
     "text": [
      "{\n",
      "    \"data\": {\n",
      "        \"1\": {\n",
      "            \"id\": 1,\n",
      "            \"name\": \"Bitcoin\",\n",
      "            \"symbol\": \"BTC\",\n",
      "            \"website_slug\": \"bitcoin\",\n",
      "            \"rank\": 1,\n",
      "            \"circulating_supply\": 18525862,\n",
      "            \"total_supply\": 18525862,\n",
      "            \"max_supply\": 21000000,\n",
      "            \"quotes\": {\n",
      "                \"USD\": {\n",
      "                    \"price\": 13119.68,\n",
      "                    \"volume_24h\": 19470750116,\n",
      "                    \"market_cap\": 242822597202,\n",
      "                    \"percentage_change_1h\": 0.509887531616248,\n",
      "                    \"percentage_change_24h\": 2.52070191268445,\n",
      "                    \"percentage_change_7d\": 15.9074800610906,\n",
      "                    \"percent_change_1h\": 0.509887531616248,\n",
      "                    \"percent_change_24h\": 2.52070191268445,\n",
      "                    \"percent_change_7d\": 15.9074800610906\n",
      "                }\n",
      "            },\n",
      "            \"last_updated\": 1603561153\n",
      "        }\n",
      "    },\n",
      "    \"metadata\": {\n",
      "        \"timestamp\": 1603561153,\n",
      "        \"num_cryptocurrencies\": 1429,\n",
      "        \"error\": null\n",
      "    }\n",
      "}\n"
     ]
    }
   ],
   "source": [
    "# Get Content & Formatting for BTC\n",
    "requests.get(btc_url)\n",
    "response_data1 = requests.get(btc_url)\n",
    "response_content1 = response_data1.content\n",
    "data1 = response_data1.json()\n",
    "print(json.dumps(data1, indent=4))"
   ]
  },
  {
   "cell_type": "code",
   "execution_count": 6,
   "metadata": {},
   "outputs": [
    {
     "name": "stdout",
     "output_type": "stream",
     "text": [
      "{\n",
      "    \"data\": {\n",
      "        \"1027\": {\n",
      "            \"id\": 1027,\n",
      "            \"name\": \"Ethereum\",\n",
      "            \"symbol\": \"ETH\",\n",
      "            \"website_slug\": \"ethereum\",\n",
      "            \"rank\": 2,\n",
      "            \"circulating_supply\": 113140767,\n",
      "            \"total_supply\": 113140767,\n",
      "            \"max_supply\": 0,\n",
      "            \"quotes\": {\n",
      "                \"USD\": {\n",
      "                    \"price\": 413.83,\n",
      "                    \"volume_24h\": 9374266403,\n",
      "                    \"market_cap\": 46782281898,\n",
      "                    \"percentage_change_1h\": 0.264832436054312,\n",
      "                    \"percentage_change_24h\": 1.85195479373435,\n",
      "                    \"percentage_change_7d\": 13.0719605221242,\n",
      "                    \"percent_change_1h\": 0.264832436054312,\n",
      "                    \"percent_change_24h\": 1.85195479373435,\n",
      "                    \"percent_change_7d\": 13.0719605221242\n",
      "                }\n",
      "            },\n",
      "            \"last_updated\": 1603561186\n",
      "        }\n",
      "    },\n",
      "    \"metadata\": {\n",
      "        \"timestamp\": 1603561186,\n",
      "        \"num_cryptocurrencies\": 1429,\n",
      "        \"error\": null\n",
      "    }\n",
      "}\n"
     ]
    }
   ],
   "source": [
    "# # Get Content & Formatting for ETH\n",
    "requests.get(eth_url)\n",
    "response_data2 = requests.get(eth_url)\n",
    "response_content2 = response_data2.content\n",
    "data2 = response_data2.json()\n",
    "print(json.dumps(data2, indent=4))"
   ]
  },
  {
   "cell_type": "code",
   "execution_count": 7,
   "metadata": {},
   "outputs": [
    {
     "name": "stdout",
     "output_type": "stream",
     "text": [
      "The current value of your 1.2 BTC is $15743.62\n",
      "The current value of your 5.3 ETH is $2193.30\n"
     ]
    }
   ],
   "source": [
    "# Fetch current BTC price\n",
    "btc_price = data1[\"data\"][\"1\"][\"quotes\"][\"USD\"][\"price\"]\n",
    "# Fetch current ETH price\n",
    "eth_price = data2[\"data\"][\"1027\"][\"quotes\"][\"USD\"][\"price\"]\n",
    "\n",
    "# Compute current value of my crpto\n",
    "my_btc_value = btc_price * my_btc\n",
    "my_eth_value = eth_price * my_eth\n",
    "\n",
    "# Print current crypto wallet balance\n",
    "print(f\"The current value of your {my_btc} BTC is ${my_btc_value:0.2f}\")\n",
    "print(f\"The current value of your {my_eth} ETH is ${my_eth_value:0.2f}\")"
   ]
  },
  {
   "cell_type": "markdown",
   "metadata": {},
   "source": [
    "### Collect Investments Data Using Alpaca: `SPY` (stocks) and `AGG` (bonds)"
   ]
  },
  {
   "cell_type": "code",
   "execution_count": 8,
   "metadata": {},
   "outputs": [],
   "source": [
    "# Current amount of shares\n",
    "my_spy = 50\n",
    "my_agg = 200\n"
   ]
  },
  {
   "cell_type": "code",
   "execution_count": 9,
   "metadata": {},
   "outputs": [],
   "source": [
    "# Set Alpaca API key and secret\n",
    "alpaca_api_key = os.getenv(\"ALPACA_API_KEY\")\n",
    "alpaca_secret_key = os.getenv(\"ALPACA_SECRET_KEY\")\n",
    "\n",
    "# Create the Alpaca API object\n",
    "alpaca = tradeapi.REST(\n",
    "    alpaca_api_key,\n",
    "    alpaca_secret_key,\n",
    "    api_version=\"v2\")"
   ]
  },
  {
   "cell_type": "code",
   "execution_count": 10,
   "metadata": {},
   "outputs": [
    {
     "data": {
      "text/html": [
       "<div>\n",
       "<style scoped>\n",
       "    .dataframe tbody tr th:only-of-type {\n",
       "        vertical-align: middle;\n",
       "    }\n",
       "\n",
       "    .dataframe tbody tr th {\n",
       "        vertical-align: top;\n",
       "    }\n",
       "\n",
       "    .dataframe thead tr th {\n",
       "        text-align: left;\n",
       "    }\n",
       "</style>\n",
       "<table border=\"1\" class=\"dataframe\">\n",
       "  <thead>\n",
       "    <tr>\n",
       "      <th></th>\n",
       "      <th colspan=\"5\" halign=\"left\">AGG</th>\n",
       "      <th colspan=\"5\" halign=\"left\">SPY</th>\n",
       "    </tr>\n",
       "    <tr>\n",
       "      <th></th>\n",
       "      <th>open</th>\n",
       "      <th>high</th>\n",
       "      <th>low</th>\n",
       "      <th>close</th>\n",
       "      <th>volume</th>\n",
       "      <th>open</th>\n",
       "      <th>high</th>\n",
       "      <th>low</th>\n",
       "      <th>close</th>\n",
       "      <th>volume</th>\n",
       "    </tr>\n",
       "  </thead>\n",
       "  <tbody>\n",
       "    <tr>\n",
       "      <th>2020-10-20</th>\n",
       "      <td>117.7</td>\n",
       "      <td>117.71</td>\n",
       "      <td>117.58</td>\n",
       "      <td>117.64</td>\n",
       "      <td>3624855</td>\n",
       "      <td>343.46</td>\n",
       "      <td>346.88</td>\n",
       "      <td>342.64</td>\n",
       "      <td>343.34</td>\n",
       "      <td>48206853</td>\n",
       "    </tr>\n",
       "  </tbody>\n",
       "</table>\n",
       "</div>"
      ],
      "text/plain": [
       "              AGG                                      SPY                  \\\n",
       "             open    high     low   close   volume    open    high     low   \n",
       "2020-10-20  117.7  117.71  117.58  117.64  3624855  343.46  346.88  342.64   \n",
       "\n",
       "                              \n",
       "             close    volume  \n",
       "2020-10-20  343.34  48206853  "
      ]
     },
     "execution_count": 10,
     "metadata": {},
     "output_type": "execute_result"
    }
   ],
   "source": [
    "# Format current date as ISO format\n",
    "today = pd.Timestamp(\"2020-10-20\", tz=\"America/New_York\").isoformat()\n",
    "\n",
    "# Set the tickers\n",
    "tickers = [\"AGG\", \"SPY\"]\n",
    "\n",
    "# Set timeframe to '1D' for Alpaca API\n",
    "timeframe = \"1D\"\n",
    "\n",
    "# Get current closing prices for SPY and AGG\n",
    "df_portfolio = alpaca.get_barset(\n",
    "    tickers,\n",
    "    timeframe,\n",
    "    start = today,\n",
    "    end = today\n",
    ").df\n",
    "\n",
    "# Dropping time component of the date\n",
    "df_portfolio.index = df_portfolio.index.date\n",
    "\n",
    "# Preview DataFrame\n",
    "df_portfolio"
   ]
  },
  {
   "cell_type": "code",
   "execution_count": 11,
   "metadata": {},
   "outputs": [
    {
     "name": "stdout",
     "output_type": "stream",
     "text": [
      "Current AGG closing price: $117.64\n",
      "Current SPY closing price: $343.34\n"
     ]
    }
   ],
   "source": [
    "# Pick AGG and SPY close prices\n",
    "agg_close_price = float(df_portfolio[\"AGG\"][\"close\"])\n",
    "spy_close_price = float(df_portfolio[\"SPY\"][\"close\"])\n",
    "\n",
    "# Print AGG and SPY close prices\n",
    "print(f\"Current AGG closing price: ${agg_close_price}\")\n",
    "print(f\"Current SPY closing price: ${spy_close_price}\")"
   ]
  },
  {
   "cell_type": "code",
   "execution_count": 12,
   "metadata": {},
   "outputs": [
    {
     "name": "stdout",
     "output_type": "stream",
     "text": [
      "The current value of your 50 SPY shares is $17167.00\n",
      "The current value of your 200 AGG shares is $23528.00\n"
     ]
    }
   ],
   "source": [
    "# Compute the current value of shares\n",
    "my_agg_value = agg_close_price * my_agg\n",
    "my_spy_value = spy_close_price * my_spy\n",
    "# Print current value of share\n",
    "print(f\"The current value of your {my_spy} SPY shares is ${my_spy_value:0.2f}\")\n",
    "print(f\"The current value of your {my_agg} AGG shares is ${my_agg_value:0.2f}\")"
   ]
  },
  {
   "cell_type": "markdown",
   "metadata": {},
   "source": [
    "### Savings Health Analysis"
   ]
  },
  {
   "cell_type": "code",
   "execution_count": 13,
   "metadata": {},
   "outputs": [
    {
     "data": {
      "text/html": [
       "<div>\n",
       "<style scoped>\n",
       "    .dataframe tbody tr th:only-of-type {\n",
       "        vertical-align: middle;\n",
       "    }\n",
       "\n",
       "    .dataframe tbody tr th {\n",
       "        vertical-align: top;\n",
       "    }\n",
       "\n",
       "    .dataframe thead th {\n",
       "        text-align: right;\n",
       "    }\n",
       "</style>\n",
       "<table border=\"1\" class=\"dataframe\">\n",
       "  <thead>\n",
       "    <tr style=\"text-align: right;\">\n",
       "      <th></th>\n",
       "      <th>amount</th>\n",
       "    </tr>\n",
       "  </thead>\n",
       "  <tbody>\n",
       "    <tr>\n",
       "      <th>crypto</th>\n",
       "      <td>17936.915</td>\n",
       "    </tr>\n",
       "    <tr>\n",
       "      <th>shares</th>\n",
       "      <td>40695.000</td>\n",
       "    </tr>\n",
       "  </tbody>\n",
       "</table>\n",
       "</div>"
      ],
      "text/plain": [
       "           amount\n",
       "crypto  17936.915\n",
       "shares  40695.000"
      ]
     },
     "metadata": {},
     "output_type": "display_data"
    }
   ],
   "source": [
    "# Set monthly household income\n",
    "monthly_income = 12000\n",
    "\n",
    "# Set the data for the shares value DataFrame\n",
    "value_data = {\n",
    "    \"amount\":[my_btc_value+my_eth_value, my_agg_value+my_spy_value]\n",
    "}\n",
    "# Set Index\n",
    "assets = [\"crypto\", \"shares\"]\n",
    "\n",
    "# Create savings DataFrame\n",
    "df_savings = pd.DataFrame(value_data, index=assets)\n",
    "\n",
    "# Display savings DataFrame\n",
    "display(df_savings)"
   ]
  },
  {
   "cell_type": "code",
   "execution_count": 14,
   "metadata": {},
   "outputs": [
    {
     "data": {
      "text/plain": [
       "<matplotlib.axes._subplots.AxesSubplot at 0x7fb5bae04f90>"
      ]
     },
     "execution_count": 14,
     "metadata": {},
     "output_type": "execute_result"
    },
    {
     "data": {
      "image/png": "[encoded data removed]",
      "text/plain": [
       "<Figure size 432x288 with 1 Axes>"
      ]
     },
     "metadata": {},
     "output_type": "display_data"
    }
   ],
   "source": [
    "# Plot savings pie chart\n",
    "df_savings.plot.pie(y=\"amount\", title=\"Composition of personal savings\")"
   ]
  },
  {
   "cell_type": "code",
   "execution_count": 15,
   "metadata": {},
   "outputs": [
    {
     "name": "stdout",
     "output_type": "stream",
     "text": [
      "Congrats! You have enough money in your emergency fund.\n"
     ]
    }
   ],
   "source": [
    "# Set ideal emergency fund\n",
    "emergency_fund = monthly_income * 3\n",
    "\n",
    "# Calculate total amount of savings\n",
    "total_savings = (my_btc_value+my_eth_value)+(my_agg_value+my_spy_value)\n",
    "\n",
    "\n",
    "# Set the difference between emergency fund & total savings\n",
    "savings_goal = emergency_fund - total_savings\n",
    "\n",
    "# Validate saving health\n",
    "if total_savings > emergency_fund:\n",
    "    print(\"Congrats! You have enough money in your emergency fund.\")\n",
    "elif total_savings == emergency_fund:\n",
    "    print(\"Congrats! You have reached your financial goal.\")\n",
    "else:\n",
    "    print(f\"You need ${savings_goal} to reach your goal.\")"
   ]
  },
  {
   "cell_type": "markdown",
   "metadata": {},
   "source": [
    "## Part 2 - Retirement Planning\n",
    "\n",
    "### Monte Carlo Simulation"
   ]
  },
  {
   "cell_type": "code",
   "execution_count": 16,
   "metadata": {},
   "outputs": [],
   "source": [
    "# Set start and end dates of five years back from today.\n",
    "# Sample results may vary from the solution based on the time frame chosen\n",
    "start_date = pd.Timestamp('2015-08-07', tz='America/New_York').isoformat()\n",
    "end_date = pd.Timestamp('2020-08-07', tz='America/New_York').isoformat()"
   ]
  },
  {
   "cell_type": "code",
   "execution_count": 17,
   "metadata": {},
   "outputs": [
    {
     "data": {
      "text/html": [
       "<div>\n",
       "<style scoped>\n",
       "    .dataframe tbody tr th:only-of-type {\n",
       "        vertical-align: middle;\n",
       "    }\n",
       "\n",
       "    .dataframe tbody tr th {\n",
       "        vertical-align: top;\n",
       "    }\n",
       "\n",
       "    .dataframe thead tr th {\n",
       "        text-align: left;\n",
       "    }\n",
       "</style>\n",
       "<table border=\"1\" class=\"dataframe\">\n",
       "  <thead>\n",
       "    <tr>\n",
       "      <th></th>\n",
       "      <th colspan=\"5\" halign=\"left\">AGG</th>\n",
       "      <th colspan=\"5\" halign=\"left\">SPY</th>\n",
       "    </tr>\n",
       "    <tr>\n",
       "      <th></th>\n",
       "      <th>open</th>\n",
       "      <th>high</th>\n",
       "      <th>low</th>\n",
       "      <th>close</th>\n",
       "      <th>volume</th>\n",
       "      <th>open</th>\n",
       "      <th>high</th>\n",
       "      <th>low</th>\n",
       "      <th>close</th>\n",
       "      <th>volume</th>\n",
       "    </tr>\n",
       "  </thead>\n",
       "  <tbody>\n",
       "    <tr>\n",
       "      <th>2015-08-07 00:00:00-04:00</th>\n",
       "      <td>109.14</td>\n",
       "      <td>109.2750</td>\n",
       "      <td>109.035</td>\n",
       "      <td>109.21</td>\n",
       "      <td>2041167</td>\n",
       "      <td>208.16</td>\n",
       "      <td>208.34</td>\n",
       "      <td>206.87</td>\n",
       "      <td>207.93</td>\n",
       "      <td>87669782</td>\n",
       "    </tr>\n",
       "    <tr>\n",
       "      <th>2015-08-10 00:00:00-04:00</th>\n",
       "      <td>109.15</td>\n",
       "      <td>109.1700</td>\n",
       "      <td>108.920</td>\n",
       "      <td>109.06</td>\n",
       "      <td>1149778</td>\n",
       "      <td>209.28</td>\n",
       "      <td>210.67</td>\n",
       "      <td>209.28</td>\n",
       "      <td>210.58</td>\n",
       "      <td>66755890</td>\n",
       "    </tr>\n",
       "    <tr>\n",
       "      <th>2015-08-11 00:00:00-04:00</th>\n",
       "      <td>109.42</td>\n",
       "      <td>109.5765</td>\n",
       "      <td>109.284</td>\n",
       "      <td>109.42</td>\n",
       "      <td>1420907</td>\n",
       "      <td>208.98</td>\n",
       "      <td>209.47</td>\n",
       "      <td>207.76</td>\n",
       "      <td>208.63</td>\n",
       "      <td>88424557</td>\n",
       "    </tr>\n",
       "    <tr>\n",
       "      <th>2015-08-12 00:00:00-04:00</th>\n",
       "      <td>109.55</td>\n",
       "      <td>109.7100</td>\n",
       "      <td>109.350</td>\n",
       "      <td>109.36</td>\n",
       "      <td>1468979</td>\n",
       "      <td>207.11</td>\n",
       "      <td>209.14</td>\n",
       "      <td>205.36</td>\n",
       "      <td>208.89</td>\n",
       "      <td>136171450</td>\n",
       "    </tr>\n",
       "    <tr>\n",
       "      <th>2015-08-13 00:00:00-04:00</th>\n",
       "      <td>109.36</td>\n",
       "      <td>109.3651</td>\n",
       "      <td>109.110</td>\n",
       "      <td>109.15</td>\n",
       "      <td>1465173</td>\n",
       "      <td>208.73</td>\n",
       "      <td>209.55</td>\n",
       "      <td>208.01</td>\n",
       "      <td>208.63</td>\n",
       "      <td>77197796</td>\n",
       "    </tr>\n",
       "  </tbody>\n",
       "</table>\n",
       "</div>"
      ],
      "text/plain": [
       "                              AGG                                         SPY  \\\n",
       "                             open      high      low   close   volume    open   \n",
       "2015-08-07 00:00:00-04:00  109.14  109.2750  109.035  109.21  2041167  208.16   \n",
       "2015-08-10 00:00:00-04:00  109.15  109.1700  108.920  109.06  1149778  209.28   \n",
       "2015-08-11 00:00:00-04:00  109.42  109.5765  109.284  109.42  1420907  208.98   \n",
       "2015-08-12 00:00:00-04:00  109.55  109.7100  109.350  109.36  1468979  207.11   \n",
       "2015-08-13 00:00:00-04:00  109.36  109.3651  109.110  109.15  1465173  208.73   \n",
       "\n",
       "                                                              \n",
       "                             high     low   close     volume  \n",
       "2015-08-07 00:00:00-04:00  208.34  206.87  207.93   87669782  \n",
       "2015-08-10 00:00:00-04:00  210.67  209.28  210.58   66755890  \n",
       "2015-08-11 00:00:00-04:00  209.47  207.76  208.63   88424557  \n",
       "2015-08-12 00:00:00-04:00  209.14  205.36  208.89  136171450  \n",
       "2015-08-13 00:00:00-04:00  209.55  208.01  208.63   77197796  "
      ]
     },
     "execution_count": 17,
     "metadata": {},
     "output_type": "execute_result"
    }
   ],
   "source": [
    "# Get 5 years' worth of historical data for SPY and AGG\n",
    "df_stock_data = alpaca.get_barset(\n",
    "    tickers,\n",
    "    timeframe,\n",
    "    start=start_date,\n",
    "    end=end_date\n",
    ").df\n",
    "\n",
    "\n",
    "# Display sample data\n",
    "df_stock_data.head()"
   ]
  },
  {
   "cell_type": "code",
   "execution_count": 18,
   "metadata": {},
   "outputs": [],
   "source": [
    "# Configuring a Monte Carlo simulation to forecast 30 years cumulative returns\n",
    "mc_stocks = MCSimulation(\n",
    "    portfolio_data = df_stock_data,\n",
    "    num_simulation = 500,\n",
    "    num_trading_days = 252*30\n",
    ")"
   ]
  },
  {
   "cell_type": "code",
   "execution_count": 19,
   "metadata": {},
   "outputs": [
    {
     "data": {
      "text/html": [
       "<div>\n",
       "<style scoped>\n",
       "    .dataframe tbody tr th:only-of-type {\n",
       "        vertical-align: middle;\n",
       "    }\n",
       "\n",
       "    .dataframe tbody tr th {\n",
       "        vertical-align: top;\n",
       "    }\n",
       "\n",
       "    .dataframe thead tr th {\n",
       "        text-align: left;\n",
       "    }\n",
       "</style>\n",
       "<table border=\"1\" class=\"dataframe\">\n",
       "  <thead>\n",
       "    <tr>\n",
       "      <th></th>\n",
       "      <th colspan=\"5\" halign=\"left\">AGG</th>\n",
       "      <th colspan=\"5\" halign=\"left\">SPY</th>\n",
       "    </tr>\n",
       "    <tr>\n",
       "      <th></th>\n",
       "      <th>open</th>\n",
       "      <th>high</th>\n",
       "      <th>low</th>\n",
       "      <th>close</th>\n",
       "      <th>volume</th>\n",
       "      <th>open</th>\n",
       "      <th>high</th>\n",
       "      <th>low</th>\n",
       "      <th>close</th>\n",
       "      <th>volume</th>\n",
       "    </tr>\n",
       "  </thead>\n",
       "  <tbody>\n",
       "    <tr>\n",
       "      <th>2015-08-07 00:00:00-04:00</th>\n",
       "      <td>109.14</td>\n",
       "      <td>109.2750</td>\n",
       "      <td>109.035</td>\n",
       "      <td>109.21</td>\n",
       "      <td>2041167</td>\n",
       "      <td>208.16</td>\n",
       "      <td>208.34</td>\n",
       "      <td>206.87</td>\n",
       "      <td>207.93</td>\n",
       "      <td>87669782</td>\n",
       "    </tr>\n",
       "    <tr>\n",
       "      <th>2015-08-10 00:00:00-04:00</th>\n",
       "      <td>109.15</td>\n",
       "      <td>109.1700</td>\n",
       "      <td>108.920</td>\n",
       "      <td>109.06</td>\n",
       "      <td>1149778</td>\n",
       "      <td>209.28</td>\n",
       "      <td>210.67</td>\n",
       "      <td>209.28</td>\n",
       "      <td>210.58</td>\n",
       "      <td>66755890</td>\n",
       "    </tr>\n",
       "    <tr>\n",
       "      <th>2015-08-11 00:00:00-04:00</th>\n",
       "      <td>109.42</td>\n",
       "      <td>109.5765</td>\n",
       "      <td>109.284</td>\n",
       "      <td>109.42</td>\n",
       "      <td>1420907</td>\n",
       "      <td>208.98</td>\n",
       "      <td>209.47</td>\n",
       "      <td>207.76</td>\n",
       "      <td>208.63</td>\n",
       "      <td>88424557</td>\n",
       "    </tr>\n",
       "    <tr>\n",
       "      <th>2015-08-12 00:00:00-04:00</th>\n",
       "      <td>109.55</td>\n",
       "      <td>109.7100</td>\n",
       "      <td>109.350</td>\n",
       "      <td>109.36</td>\n",
       "      <td>1468979</td>\n",
       "      <td>207.11</td>\n",
       "      <td>209.14</td>\n",
       "      <td>205.36</td>\n",
       "      <td>208.89</td>\n",
       "      <td>136171450</td>\n",
       "    </tr>\n",
       "    <tr>\n",
       "      <th>2015-08-13 00:00:00-04:00</th>\n",
       "      <td>109.36</td>\n",
       "      <td>109.3651</td>\n",
       "      <td>109.110</td>\n",
       "      <td>109.15</td>\n",
       "      <td>1465173</td>\n",
       "      <td>208.73</td>\n",
       "      <td>209.55</td>\n",
       "      <td>208.01</td>\n",
       "      <td>208.63</td>\n",
       "      <td>77197796</td>\n",
       "    </tr>\n",
       "  </tbody>\n",
       "</table>\n",
       "</div>"
      ],
      "text/plain": [
       "                              AGG                                         SPY  \\\n",
       "                             open      high      low   close   volume    open   \n",
       "2015-08-07 00:00:00-04:00  109.14  109.2750  109.035  109.21  2041167  208.16   \n",
       "2015-08-10 00:00:00-04:00  109.15  109.1700  108.920  109.06  1149778  209.28   \n",
       "2015-08-11 00:00:00-04:00  109.42  109.5765  109.284  109.42  1420907  208.98   \n",
       "2015-08-12 00:00:00-04:00  109.55  109.7100  109.350  109.36  1468979  207.11   \n",
       "2015-08-13 00:00:00-04:00  109.36  109.3651  109.110  109.15  1465173  208.73   \n",
       "\n",
       "                                                              \n",
       "                             high     low   close     volume  \n",
       "2015-08-07 00:00:00-04:00  208.34  206.87  207.93   87669782  \n",
       "2015-08-10 00:00:00-04:00  210.67  209.28  210.58   66755890  \n",
       "2015-08-11 00:00:00-04:00  209.47  207.76  208.63   88424557  \n",
       "2015-08-12 00:00:00-04:00  209.14  205.36  208.89  136171450  \n",
       "2015-08-13 00:00:00-04:00  209.55  208.01  208.63   77197796  "
      ]
     },
     "execution_count": 19,
     "metadata": {},
     "output_type": "execute_result"
    }
   ],
   "source": [
    "# Printing the simulation input data\n",
    "df_stock_data.head()"
   ]
  },
  {
   "cell_type": "code",
   "execution_count": 20,
   "metadata": {},
   "outputs": [
    {
     "name": "stdout",
     "output_type": "stream",
     "text": [
      "Running Monte Carlo simulation number 0.\n",
      "Running Monte Carlo simulation number 10.\n",
      "Running Monte Carlo simulation number 20.\n",
      "Running Monte Carlo simulation number 30.\n",
      "Running Monte Carlo simulation number 40.\n",
      "Running Monte Carlo simulation number 50.\n",
      "Running Monte Carlo simulation number 60.\n",
      "Running Monte Carlo simulation number 70.\n",
      "Running Monte Carlo simulation number 80.\n",
      "Running Monte Carlo simulation number 90.\n",
      "Running Monte Carlo simulation number 100.\n",
      "Running Monte Carlo simulation number 110.\n",
      "Running Monte Carlo simulation number 120.\n",
      "Running Monte Carlo simulation number 130.\n",
      "Running Monte Carlo simulation number 140.\n",
      "Running Monte Carlo simulation number 150.\n",
      "Running Monte Carlo simulation number 160.\n",
      "Running Monte Carlo simulation number 170.\n",
      "Running Monte Carlo simulation number 180.\n",
      "Running Monte Carlo simulation number 190.\n",
      "Running Monte Carlo simulation number 200.\n",
      "Running Monte Carlo simulation number 210.\n",
      "Running Monte Carlo simulation number 220.\n",
      "Running Monte Carlo simulation number 230.\n",
      "Running Monte Carlo simulation number 240.\n",
      "Running Monte Carlo simulation number 250.\n",
      "Running Monte Carlo simulation number 260.\n",
      "Running Monte Carlo simulation number 270.\n",
      "Running Monte Carlo simulation number 280.\n",
      "Running Monte Carlo simulation number 290.\n",
      "Running Monte Carlo simulation number 300.\n",
      "Running Monte Carlo simulation number 310.\n",
      "Running Monte Carlo simulation number 320.\n",
      "Running Monte Carlo simulation number 330.\n",
      "Running Monte Carlo simulation number 340.\n",
      "Running Monte Carlo simulation number 350.\n",
      "Running Monte Carlo simulation number 360.\n",
      "Running Monte Carlo simulation number 370.\n",
      "Running Monte Carlo simulation number 380.\n",
      "Running Monte Carlo simulation number 390.\n",
      "Running Monte Carlo simulation number 400.\n",
      "Running Monte Carlo simulation number 410.\n",
      "Running Monte Carlo simulation number 420.\n",
      "Running Monte Carlo simulation number 430.\n",
      "Running Monte Carlo simulation number 440.\n",
      "Running Monte Carlo simulation number 450.\n",
      "Running Monte Carlo simulation number 460.\n",
      "Running Monte Carlo simulation number 470.\n",
      "Running Monte Carlo simulation number 480.\n",
      "Running Monte Carlo simulation number 490.\n"
     ]
    },
    {
     "data": {
      "text/html": [
       "<div>\n",
       "<style scoped>\n",
       "    .dataframe tbody tr th:only-of-type {\n",
       "        vertical-align: middle;\n",
       "    }\n",
       "\n",
       "    .dataframe tbody tr th {\n",
       "        vertical-align: top;\n",
       "    }\n",
       "\n",
       "    .dataframe thead th {\n",
       "        text-align: right;\n",
       "    }\n",
       "</style>\n",
       "<table border=\"1\" class=\"dataframe\">\n",
       "  <thead>\n",
       "    <tr style=\"text-align: right;\">\n",
       "      <th></th>\n",
       "      <th>0</th>\n",
       "      <th>1</th>\n",
       "      <th>2</th>\n",
       "      <th>3</th>\n",
       "      <th>4</th>\n",
       "      <th>5</th>\n",
       "      <th>6</th>\n",
       "      <th>7</th>\n",
       "      <th>8</th>\n",
       "      <th>9</th>\n",
       "      <th>...</th>\n",
       "      <th>490</th>\n",
       "      <th>491</th>\n",
       "      <th>492</th>\n",
       "      <th>493</th>\n",
       "      <th>494</th>\n",
       "      <th>495</th>\n",
       "      <th>496</th>\n",
       "      <th>497</th>\n",
       "      <th>498</th>\n",
       "      <th>499</th>\n",
       "    </tr>\n",
       "  </thead>\n",
       "  <tbody>\n",
       "    <tr>\n",
       "      <th>0</th>\n",
       "      <td>1.000000</td>\n",
       "      <td>1.000000</td>\n",
       "      <td>1.000000</td>\n",
       "      <td>1.000000</td>\n",
       "      <td>1.000000</td>\n",
       "      <td>1.000000</td>\n",
       "      <td>1.000000</td>\n",
       "      <td>1.000000</td>\n",
       "      <td>1.000000</td>\n",
       "      <td>1.000000</td>\n",
       "      <td>...</td>\n",
       "      <td>1.000000</td>\n",
       "      <td>1.000000</td>\n",
       "      <td>1.000000</td>\n",
       "      <td>1.000000</td>\n",
       "      <td>1.000000</td>\n",
       "      <td>1.000000</td>\n",
       "      <td>1.000000</td>\n",
       "      <td>1.000000</td>\n",
       "      <td>1.000000</td>\n",
       "      <td>1.000000</td>\n",
       "    </tr>\n",
       "    <tr>\n",
       "      <th>1</th>\n",
       "      <td>0.995382</td>\n",
       "      <td>0.999089</td>\n",
       "      <td>0.993262</td>\n",
       "      <td>1.003503</td>\n",
       "      <td>1.002532</td>\n",
       "      <td>0.995309</td>\n",
       "      <td>1.007729</td>\n",
       "      <td>0.998895</td>\n",
       "      <td>1.003544</td>\n",
       "      <td>1.003558</td>\n",
       "      <td>...</td>\n",
       "      <td>0.995407</td>\n",
       "      <td>0.998690</td>\n",
       "      <td>0.995800</td>\n",
       "      <td>1.000286</td>\n",
       "      <td>0.997344</td>\n",
       "      <td>1.000346</td>\n",
       "      <td>1.006291</td>\n",
       "      <td>1.003590</td>\n",
       "      <td>0.998885</td>\n",
       "      <td>1.002386</td>\n",
       "    </tr>\n",
       "    <tr>\n",
       "      <th>2</th>\n",
       "      <td>0.995608</td>\n",
       "      <td>0.994295</td>\n",
       "      <td>0.985404</td>\n",
       "      <td>0.999263</td>\n",
       "      <td>0.998095</td>\n",
       "      <td>0.995433</td>\n",
       "      <td>1.002423</td>\n",
       "      <td>1.010590</td>\n",
       "      <td>1.002918</td>\n",
       "      <td>1.000647</td>\n",
       "      <td>...</td>\n",
       "      <td>1.001303</td>\n",
       "      <td>1.007602</td>\n",
       "      <td>1.000035</td>\n",
       "      <td>0.991238</td>\n",
       "      <td>0.997091</td>\n",
       "      <td>1.001563</td>\n",
       "      <td>1.010705</td>\n",
       "      <td>1.008810</td>\n",
       "      <td>1.006472</td>\n",
       "      <td>0.999213</td>\n",
       "    </tr>\n",
       "    <tr>\n",
       "      <th>3</th>\n",
       "      <td>0.988247</td>\n",
       "      <td>0.996655</td>\n",
       "      <td>0.992817</td>\n",
       "      <td>0.994745</td>\n",
       "      <td>0.992179</td>\n",
       "      <td>0.997583</td>\n",
       "      <td>1.001719</td>\n",
       "      <td>1.007709</td>\n",
       "      <td>0.997690</td>\n",
       "      <td>0.998821</td>\n",
       "      <td>...</td>\n",
       "      <td>1.008870</td>\n",
       "      <td>1.004956</td>\n",
       "      <td>1.011829</td>\n",
       "      <td>0.981723</td>\n",
       "      <td>0.991197</td>\n",
       "      <td>1.003812</td>\n",
       "      <td>1.000894</td>\n",
       "      <td>1.011529</td>\n",
       "      <td>1.000798</td>\n",
       "      <td>0.998739</td>\n",
       "    </tr>\n",
       "    <tr>\n",
       "      <th>4</th>\n",
       "      <td>0.973833</td>\n",
       "      <td>0.996088</td>\n",
       "      <td>0.994339</td>\n",
       "      <td>0.985499</td>\n",
       "      <td>0.987387</td>\n",
       "      <td>1.006205</td>\n",
       "      <td>1.003847</td>\n",
       "      <td>0.994111</td>\n",
       "      <td>1.003614</td>\n",
       "      <td>0.989110</td>\n",
       "      <td>...</td>\n",
       "      <td>1.013864</td>\n",
       "      <td>1.007737</td>\n",
       "      <td>1.008450</td>\n",
       "      <td>0.988065</td>\n",
       "      <td>0.999646</td>\n",
       "      <td>0.998934</td>\n",
       "      <td>1.003514</td>\n",
       "      <td>1.017160</td>\n",
       "      <td>1.006292</td>\n",
       "      <td>1.005808</td>\n",
       "    </tr>\n",
       "    <tr>\n",
       "      <th>...</th>\n",
       "      <td>...</td>\n",
       "      <td>...</td>\n",
       "      <td>...</td>\n",
       "      <td>...</td>\n",
       "      <td>...</td>\n",
       "      <td>...</td>\n",
       "      <td>...</td>\n",
       "      <td>...</td>\n",
       "      <td>...</td>\n",
       "      <td>...</td>\n",
       "      <td>...</td>\n",
       "      <td>...</td>\n",
       "      <td>...</td>\n",
       "      <td>...</td>\n",
       "      <td>...</td>\n",
       "      <td>...</td>\n",
       "      <td>...</td>\n",
       "      <td>...</td>\n",
       "      <td>...</td>\n",
       "      <td>...</td>\n",
       "      <td>...</td>\n",
       "    </tr>\n",
       "    <tr>\n",
       "      <th>7556</th>\n",
       "      <td>4.488749</td>\n",
       "      <td>3.639786</td>\n",
       "      <td>10.105191</td>\n",
       "      <td>13.754048</td>\n",
       "      <td>7.072159</td>\n",
       "      <td>5.558572</td>\n",
       "      <td>10.110689</td>\n",
       "      <td>3.650186</td>\n",
       "      <td>3.292673</td>\n",
       "      <td>7.152802</td>\n",
       "      <td>...</td>\n",
       "      <td>4.754550</td>\n",
       "      <td>8.265496</td>\n",
       "      <td>14.231301</td>\n",
       "      <td>6.032145</td>\n",
       "      <td>14.420233</td>\n",
       "      <td>1.604582</td>\n",
       "      <td>7.421587</td>\n",
       "      <td>6.723794</td>\n",
       "      <td>2.748506</td>\n",
       "      <td>5.409961</td>\n",
       "    </tr>\n",
       "    <tr>\n",
       "      <th>7557</th>\n",
       "      <td>4.503887</td>\n",
       "      <td>3.623756</td>\n",
       "      <td>10.100727</td>\n",
       "      <td>13.653901</td>\n",
       "      <td>7.035004</td>\n",
       "      <td>5.506618</td>\n",
       "      <td>10.182211</td>\n",
       "      <td>3.699156</td>\n",
       "      <td>3.318113</td>\n",
       "      <td>7.216272</td>\n",
       "      <td>...</td>\n",
       "      <td>4.706400</td>\n",
       "      <td>8.305631</td>\n",
       "      <td>14.177195</td>\n",
       "      <td>6.079663</td>\n",
       "      <td>14.473417</td>\n",
       "      <td>1.604073</td>\n",
       "      <td>7.379843</td>\n",
       "      <td>6.777848</td>\n",
       "      <td>2.729706</td>\n",
       "      <td>5.381338</td>\n",
       "    </tr>\n",
       "    <tr>\n",
       "      <th>7558</th>\n",
       "      <td>4.499646</td>\n",
       "      <td>3.608908</td>\n",
       "      <td>10.112623</td>\n",
       "      <td>13.650720</td>\n",
       "      <td>7.026877</td>\n",
       "      <td>5.519842</td>\n",
       "      <td>10.099404</td>\n",
       "      <td>3.717277</td>\n",
       "      <td>3.320098</td>\n",
       "      <td>7.167435</td>\n",
       "      <td>...</td>\n",
       "      <td>4.705827</td>\n",
       "      <td>8.277981</td>\n",
       "      <td>13.992032</td>\n",
       "      <td>6.125108</td>\n",
       "      <td>14.679801</td>\n",
       "      <td>1.611834</td>\n",
       "      <td>7.409947</td>\n",
       "      <td>6.764285</td>\n",
       "      <td>2.712257</td>\n",
       "      <td>5.361586</td>\n",
       "    </tr>\n",
       "    <tr>\n",
       "      <th>7559</th>\n",
       "      <td>4.448371</td>\n",
       "      <td>3.626275</td>\n",
       "      <td>10.160077</td>\n",
       "      <td>13.566110</td>\n",
       "      <td>6.991199</td>\n",
       "      <td>5.529747</td>\n",
       "      <td>10.097771</td>\n",
       "      <td>3.707442</td>\n",
       "      <td>3.294896</td>\n",
       "      <td>7.154903</td>\n",
       "      <td>...</td>\n",
       "      <td>4.724544</td>\n",
       "      <td>8.267553</td>\n",
       "      <td>13.977189</td>\n",
       "      <td>6.157735</td>\n",
       "      <td>14.673364</td>\n",
       "      <td>1.610652</td>\n",
       "      <td>7.373087</td>\n",
       "      <td>6.750333</td>\n",
       "      <td>2.701294</td>\n",
       "      <td>5.362631</td>\n",
       "    </tr>\n",
       "    <tr>\n",
       "      <th>7560</th>\n",
       "      <td>4.397617</td>\n",
       "      <td>3.649659</td>\n",
       "      <td>10.113877</td>\n",
       "      <td>13.636639</td>\n",
       "      <td>7.018487</td>\n",
       "      <td>5.519396</td>\n",
       "      <td>10.042072</td>\n",
       "      <td>3.676365</td>\n",
       "      <td>3.305340</td>\n",
       "      <td>7.185578</td>\n",
       "      <td>...</td>\n",
       "      <td>4.692690</td>\n",
       "      <td>8.368392</td>\n",
       "      <td>13.839160</td>\n",
       "      <td>6.138263</td>\n",
       "      <td>14.831595</td>\n",
       "      <td>1.599992</td>\n",
       "      <td>7.381314</td>\n",
       "      <td>6.680722</td>\n",
       "      <td>2.708517</td>\n",
       "      <td>5.370095</td>\n",
       "    </tr>\n",
       "  </tbody>\n",
       "</table>\n",
       "<p>7561 rows × 500 columns</p>\n",
       "</div>"
      ],
      "text/plain": [
       "           0         1          2          3         4         5          6    \\\n",
       "0     1.000000  1.000000   1.000000   1.000000  1.000000  1.000000   1.000000   \n",
       "1     0.995382  0.999089   0.993262   1.003503  1.002532  0.995309   1.007729   \n",
       "2     0.995608  0.994295   0.985404   0.999263  0.998095  0.995433   1.002423   \n",
       "3     0.988247  0.996655   0.992817   0.994745  0.992179  0.997583   1.001719   \n",
       "4     0.973833  0.996088   0.994339   0.985499  0.987387  1.006205   1.003847   \n",
       "...        ...       ...        ...        ...       ...       ...        ...   \n",
       "7556  4.488749  3.639786  10.105191  13.754048  7.072159  5.558572  10.110689   \n",
       "7557  4.503887  3.623756  10.100727  13.653901  7.035004  5.506618  10.182211   \n",
       "7558  4.499646  3.608908  10.112623  13.650720  7.026877  5.519842  10.099404   \n",
       "7559  4.448371  3.626275  10.160077  13.566110  6.991199  5.529747  10.097771   \n",
       "7560  4.397617  3.649659  10.113877  13.636639  7.018487  5.519396  10.042072   \n",
       "\n",
       "           7         8         9    ...       490       491        492  \\\n",
       "0     1.000000  1.000000  1.000000  ...  1.000000  1.000000   1.000000   \n",
       "1     0.998895  1.003544  1.003558  ...  0.995407  0.998690   0.995800   \n",
       "2     1.010590  1.002918  1.000647  ...  1.001303  1.007602   1.000035   \n",
       "3     1.007709  0.997690  0.998821  ...  1.008870  1.004956   1.011829   \n",
       "4     0.994111  1.003614  0.989110  ...  1.013864  1.007737   1.008450   \n",
       "...        ...       ...       ...  ...       ...       ...        ...   \n",
       "7556  3.650186  3.292673  7.152802  ...  4.754550  8.265496  14.231301   \n",
       "7557  3.699156  3.318113  7.216272  ...  4.706400  8.305631  14.177195   \n",
       "7558  3.717277  3.320098  7.167435  ...  4.705827  8.277981  13.992032   \n",
       "7559  3.707442  3.294896  7.154903  ...  4.724544  8.267553  13.977189   \n",
       "7560  3.676365  3.305340  7.185578  ...  4.692690  8.368392  13.839160   \n",
       "\n",
       "           493        494       495       496       497       498       499  \n",
       "0     1.000000   1.000000  1.000000  1.000000  1.000000  1.000000  1.000000  \n",
       "1     1.000286   0.997344  1.000346  1.006291  1.003590  0.998885  1.002386  \n",
       "2     0.991238   0.997091  1.001563  1.010705  1.008810  1.006472  0.999213  \n",
       "3     0.981723   0.991197  1.003812  1.000894  1.011529  1.000798  0.998739  \n",
       "4     0.988065   0.999646  0.998934  1.003514  1.017160  1.006292  1.005808  \n",
       "...        ...        ...       ...       ...       ...       ...       ...  \n",
       "7556  6.032145  14.420233  1.604582  7.421587  6.723794  2.748506  5.409961  \n",
       "7557  6.079663  14.473417  1.604073  7.379843  6.777848  2.729706  5.381338  \n",
       "7558  6.125108  14.679801  1.611834  7.409947  6.764285  2.712257  5.361586  \n",
       "7559  6.157735  14.673364  1.610652  7.373087  6.750333  2.701294  5.362631  \n",
       "7560  6.138263  14.831595  1.599992  7.381314  6.680722  2.708517  5.370095  \n",
       "\n",
       "[7561 rows x 500 columns]"
      ]
     },
     "execution_count": 20,
     "metadata": {},
     "output_type": "execute_result"
    }
   ],
   "source": [
    "# Running a Monte Carlo simulation to forecast 30 years cumulative returns\n",
    "mc_stocks.calc_cumulative_return()"
   ]
  },
  {
   "cell_type": "code",
   "execution_count": 21,
   "metadata": {},
   "outputs": [
    {
     "data": {
      "image/png": "[encoded data removed]",
      "text/plain": [
       "<Figure size 432x288 with 1 Axes>"
      ]
     },
     "metadata": {
      "needs_background": "light"
     },
     "output_type": "display_data"
    }
   ],
   "source": [
    "# Plot simulation outcomes\n",
    "line_plot = mc_stocks.plot_simulation()"
   ]
  },
  {
   "cell_type": "code",
   "execution_count": 22,
   "metadata": {},
   "outputs": [
    {
     "data": {
      "image/png": "[encoded data removed]",
      "text/plain": [
       "<Figure size 432x288 with 1 Axes>"
      ]
     },
     "metadata": {
      "needs_background": "light"
     },
     "output_type": "display_data"
    }
   ],
   "source": [
    "# Plot probability distribution and confidence intervals\n",
    "dist_plot = mc_stocks.plot_distribution()"
   ]
  },
  {
   "cell_type": "markdown",
   "metadata": {},
   "source": [
    "### Retirement Analysis"
   ]
  },
  {
   "cell_type": "code",
   "execution_count": 23,
   "metadata": {},
   "outputs": [
    {
     "name": "stdout",
     "output_type": "stream",
     "text": [
      "count           500.000000\n",
      "mean              7.396749\n",
      "std               4.093031\n",
      "min               1.153171\n",
      "25%               4.420007\n",
      "50%               6.435713\n",
      "75%               9.407579\n",
      "max              24.857351\n",
      "95% CI Lower      2.204975\n",
      "95% CI Upper     16.795356\n",
      "Name: 7560, dtype: float64\n"
     ]
    }
   ],
   "source": [
    "# Fetch summary statistics from the Monte Carlo simulation results\n",
    "stocks_tbl = mc_stocks.summarize_cumulative_return()\n",
    "\n",
    "# Print summary statistics\n",
    "print(stocks_tbl)"
   ]
  },
  {
   "cell_type": "markdown",
   "metadata": {},
   "source": [
    "### Calculate the expected portfolio return at the 95% lower and upper confidence intervals based on a `$20,000` initial investment."
   ]
  },
  {
   "cell_type": "code",
   "execution_count": 24,
   "metadata": {},
   "outputs": [
    {
     "name": "stdout",
     "output_type": "stream",
     "text": [
      "There is a 95% chance that an initial investment of $20000 in the portfolio over the next 30 years will end within in the range of $44099.5 and $335907.12\n"
     ]
    }
   ],
   "source": [
    "# Set initial investment\n",
    "initial_investment = 20000\n",
    "\n",
    "# Use the lower and upper `95%` confidence intervals to calculate the range of the possible outcomes of our $20,000\n",
    "stocks_ci_lower = round(stocks_tbl[8]*20000,2)\n",
    "stocks_ci_upper = round(stocks_tbl[9]*20000,2)\n",
    "\n",
    "\n",
    "# Print results\n",
    "print(f\"There is a 95% chance that an initial investment of ${initial_investment} in the portfolio\"\n",
    "      f\" over the next 30 years will end within in the range of\"\n",
    "      f\" ${stocks_ci_lower} and ${stocks_ci_upper}\")"
   ]
  },
  {
   "cell_type": "markdown",
   "metadata": {},
   "source": [
    "### Calculate the expected portfolio return at the `95%` lower and upper confidence intervals based on a `50%` increase in the initial investment."
   ]
  },
  {
   "cell_type": "code",
   "execution_count": 25,
   "metadata": {},
   "outputs": [
    {
     "name": "stdout",
     "output_type": "stream",
     "text": [
      "There is a 95% chance that an initial investment of $30000.0 in the portfolio over the next 30 years will end within in the range of $66149.25 and $503860.68\n"
     ]
    }
   ],
   "source": [
    "# Set initial investment\n",
    "initial_investment = 20000 * 1.5\n",
    "\n",
    "# Use the lower and upper `95%` confidence intervals to calculate the range of the possible outcomes of our $30,000\n",
    "stocks_ci_lower1 = round(stocks_tbl[8]*30000,2)\n",
    "stocks_ci_upper1 = round(stocks_tbl[9]*30000,2)\n",
    "\n",
    "# Print results\n",
    "print(f\"There is a 95% chance that an initial investment of ${initial_investment} in the portfolio\"\n",
    "      f\" over the next 30 years will end within in the range of\"\n",
    "      f\" ${stocks_ci_lower1} and ${stocks_ci_upper1}\")"
   ]
  },
  {
   "cell_type": "code",
   "execution_count": null,
   "metadata": {},
   "outputs": [],
   "source": []
  }
 ],
 "metadata": {
  "kernelspec": {
   "display_name": "Python 3",
   "language": "python",
   "name": "python3"
  },
  "language_info": {
   "codemirror_mode": {
    "name": "ipython",
    "version": 3
   },
   "file_extension": ".py",
   "mimetype": "text/x-python",
   "name": "python",
   "nbconvert_exporter": "python",
   "pygments_lexer": "ipython3",
   "version": "3.7.7"
  }
 },
 "nbformat": 4,
 "nbformat_minor": 4
}
